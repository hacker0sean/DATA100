{
 "cells": [
  {
   "cell_type": "markdown",
   "metadata": {},
   "source": [
    "Before you turn this assignment in, make sure everything runs as expected. First, **restart the kernel** (in the menubar, select Kernel$\\rightarrow$Restart) and then **run all cells** (in the menubar, select Cell$\\rightarrow$Run All). Lastly, hit **Validate**.\n",
    "\n",
    "If you worked locally, and then uploaded your work to the hub, make sure to follow these steps:\n",
    "- open your uploaded notebook **on the hub**\n",
    "- hit the validate button right above this cell, from inside the notebook\n",
    "\n",
    "These  steps should solve any issue related to submitting the notebook on the hub.\n",
    "\n",
    "Make sure you fill in any place that says `YOUR CODE HERE` or \"YOUR ANSWER HERE\", as well as your name and collaborators below:"
   ]
  },
  {
   "cell_type": "code",
   "execution_count": null,
   "metadata": {},
   "outputs": [],
   "source": [
    "NAME = \"\"\n",
    "COLLABORATORS = \"\""
   ]
  },
  {
   "cell_type": "markdown",
   "metadata": {},
   "source": [
    "---"
   ]
  },
  {
   "cell_type": "markdown",
   "metadata": {
    "deletable": false,
    "editable": false,
    "nbgrader": {
     "cell_type": "markdown",
     "checksum": "e3bb5f5c5aecc434b8e94b0fd4d57768",
     "grade": false,
     "grade_id": "intro",
     "locked": true,
     "schema_version": 2,
     "solution": false
    }
   },
   "source": [
    "# Lab 9: Use Bootstrap to Estimate Mean and Variance\n",
    "** This assignment is due 03/19/2018 at 11:59pm (graded on accuracy) **\n",
    "\n",
    "## Introduction\n",
    "\n",
    "In this lab, you will examine the bootstrap in greater detail. The goal is to develop a functional approach to bootstrapping any statistic for any sample.\n"
   ]
  },
  {
   "cell_type": "code",
   "execution_count": 1,
   "metadata": {
    "deletable": false,
    "editable": false,
    "nbgrader": {
     "cell_type": "code",
     "checksum": "e96a07cd3ea17af682d7da5226d85b90",
     "grade": false,
     "grade_id": "setup",
     "locked": true,
     "schema_version": 2,
     "solution": false
    }
   },
   "outputs": [],
   "source": [
    "# Run this cell to set up your notebook\n",
    "\n",
    "import seaborn as sns\n",
    "import csv\n",
    "import numpy as np\n",
    "import pandas as pd\n",
    "import matplotlib.pyplot as plt\n",
    "%matplotlib inline\n",
    "sns.set()\n",
    "\n",
    "from IPython.display import display, Latex, Markdown\n"
   ]
  },
  {
   "cell_type": "markdown",
   "metadata": {
    "deletable": false,
    "editable": false,
    "nbgrader": {
     "cell_type": "markdown",
     "checksum": "4575fe5df901e74115b4c6b4c30ad8a7",
     "grade": false,
     "grade_id": "bootstrap_description",
     "locked": true,
     "schema_version": 2,
     "solution": false
    }
   },
   "source": [
    "## The Bootstrap Procedure\n",
    "\n",
    "The bootstrap is a very simple process: \n",
    "* Sample with replacement from the original sample (now the **bootstrap population**). These samples are called **bootstrap samples**. We typically take thousands of bootstrap samples (~10,000 is common).\n",
    "* Calculate the statistic of interest for each bootstrap sample. This statistic is called the **bootstrap statistic**, and the empirical distribution of these bootstrap statistics is an approximation to the **sampling distribution** of the bootstrapped statistic.\n",
    "\n",
    "Take sample mean estimator as an example. Suppose $\\{x_i\\}$ are samples coming from an unknown distribution. We can use sample mean $\\bar{X} = \\frac{1}{n}\\sum_{i=1}^n x_i$ to estimate the the mean of the population. However, if we obtain another sample set $\\{x_i\\}$, we can get very different results. Therefore, computing the sampling distribution (distribution of the sample mean for all possible sample sets) would be very helpful. From such distribution, we can also obtain the bias of this estimator: $E (\\bar{X}) - \\mu$, and the variance of the estimator: $E[E(\\bar{X})-\\bar{X}]^2$.\n",
    "\n",
    "In order to compute the sampling distribution of $\\bar{X}$, we could use directly sampling methods. But that require us to obtain several different sets of samples $\\{x_i\\}$ directly from the population. If we have $m$ sets of **bootstrap samples** and each set contains $n$ subjects (totaling $m*n$ subjects), we can then use $ \\hat{X} = \\frac{1}{m}\\sum_{j=1}^m \\bar{X_j}$ to approximate $E(\\bar{X})$, and $\\frac{1}{m}\\sum_{j=1}^m (\\hat{X} - \\bar{X_j})^2$ to approximate $E[E(\\bar{X})-\\bar{X}]^2$.\n",
    "\n",
    "However, in reality, we can only obtain one set of samples (**bootstrap population**). Therefore we can use bootstrap method to resample (sample with replacement) from the **bootstrap population** to obtain $m$ different **bootstrap samples**, each **bootstrap sample** has the same amount of data as in **bootstrap population**.\n",
    "\n",
    "\n",
    "Your task is to write a generic bootstrap procedure. "
   ]
  },
  {
   "cell_type": "markdown",
   "metadata": {
    "deletable": false,
    "editable": false,
    "nbgrader": {
     "cell_type": "markdown",
     "checksum": "fc1f079315890b73d3ccf35e9b128cd6",
     "grade": false,
     "grade_id": "q1_text1",
     "locked": true,
     "schema_version": 2,
     "solution": false
    }
   },
   "source": [
    "### Question 1\n",
    "In today's lab, let's try to use bootstrap method to estimate the distribution of sample mean and sample standard deviation  of our midterm grades. You will be given a noisy sample of grades from this midterm, which is the **bootstrap population**. You should use **sampling with replacement** to resample from this dataset again and again to obtain **bootstrap samples** and compute the **bootstrap statistic**.\n",
    "\n",
    "First, write your own sampling function. The function `simple_resample` samples with replacement from the integers 0 through *n-1* and returns an array of length *n*\n",
    "with the sampled integers. That is, `simple_resample` produces the indices for\n",
    "a single bootstrap replicate from the bootstrap population.\n",
    "\n",
    "Use the `numpy.random.randint` function to do the random sampling. \n"
   ]
  },
  {
   "cell_type": "code",
   "execution_count": 2,
   "metadata": {
    "deletable": false,
    "nbgrader": {
     "cell_type": "code",
     "checksum": "089161661e9a31e9480ae9b0a8c19d8f",
     "grade": false,
     "grade_id": "q1_code",
     "locked": false,
     "schema_version": 2,
     "solution": true
    },
    "tags": [
     "student"
    ]
   },
   "outputs": [
    {
     "data": {
      "text/plain": [
       "array([8, 5, 7, 6, 8, 7, 8, 8, 0, 6])"
      ]
     },
     "execution_count": 2,
     "metadata": {},
     "output_type": "execute_result"
    }
   ],
   "source": [
    "def simple_resample(n):\n",
    "    \"\"\"\n",
    "    Args:\n",
    "        n: an integer\n",
    "        \n",
    "    Returns:\n",
    "        an array of length n of a random sample with replacement of\n",
    "        the integers 0, 1, ..., n-1\n",
    "    \"\"\"\n",
    "    return np.random.randint(n, size=n) \n",
    "\n",
    "simple_resample(10)"
   ]
  },
  {
   "cell_type": "markdown",
   "metadata": {
    "deletable": false,
    "editable": false,
    "nbgrader": {
     "cell_type": "markdown",
     "checksum": "5072e7e6e9338abdf4bfa2d77d89194d",
     "grade": false,
     "grade_id": "q1_text2",
     "locked": true,
     "schema_version": 2,
     "solution": false
    }
   },
   "source": [
    "Try your `simple_resample` function on a few cases to see if the sampling looks right."
   ]
  },
  {
   "cell_type": "code",
   "execution_count": 3,
   "metadata": {
    "deletable": false,
    "editable": false,
    "nbgrader": {
     "cell_type": "code",
     "checksum": "eb6ec00361a9e68198e5d5d611c01a04",
     "grade": true,
     "grade_id": "q1_test",
     "locked": true,
     "points": 1,
     "schema_version": 2,
     "solution": false
    },
    "tags": [
     "test",
     "q01"
    ]
   },
   "outputs": [],
   "source": [
    "# chances are less than 5.8 in 10^20 that this test fails when the function is correct\n",
    "assert (sum((42 in simple_resample(1000)) for _ in range(100000)) in range(63230-1500,63230+1500))\n",
    "assert (len(simple_resample(1000)) == 1000)"
   ]
  },
  {
   "cell_type": "markdown",
   "metadata": {
    "deletable": false,
    "editable": false,
    "nbgrader": {
     "cell_type": "markdown",
     "checksum": "10c591ecfede812358866b170febf11d",
     "grade": false,
     "grade_id": "q2_text1",
     "locked": true,
     "schema_version": 2,
     "solution": false
    }
   },
   "source": [
    "### Question 2\n",
    "\n",
    "Next let's write the function `bootstrap` which returns an array of length `replicates`, each entry being the `statistic` of interest computed on a bootstrap sample from the `boot_pop` (bootstrap population).\n",
    "\n",
    "In our case, the `statistic` could be the `np.mean` and `np.std` function. And the `resample` could be `simple_resample`. Here we leave them as parameters so that we could switch to other statistic and resample functions as well.\n",
    "\n",
    "For each bootstrap sample, you should first use `resample` to obtain samples from the `boot_pop`, then compute the statistic of those samples using the `statistic` method, and put it into your result."
   ]
  },
  {
   "cell_type": "code",
   "execution_count": 150,
   "metadata": {
    "deletable": false,
    "nbgrader": {
     "cell_type": "code",
     "checksum": "5423644879fde2fdda3606c35eef401c",
     "grade": false,
     "grade_id": "q2_code1",
     "locked": false,
     "schema_version": 2,
     "solution": true
    },
    "tags": [
     "student"
    ]
   },
   "outputs": [],
   "source": [
    "def bootstrap(boot_pop, statistic, resample, replicates = 1000):\n",
    "    \"\"\"\n",
    "    Args:\n",
    "        boot_pop: an array of shape n x d.\n",
    "        statistic: a function which takes boot_pop and returns a number.\n",
    "        resample: a function which takes n and returns a random sample from the integers [0, n)\n",
    "        \n",
    "    Return\n",
    "        an array of length replicates, each entry being the statistic computed on a bootstrap sample of the data.\n",
    "    \"\"\"\n",
    "    \n",
    "    return np.array([statistic(np.array([boot_pop[i] for i in resample(boot_pop.shape[0])])) for j in np.arange(replicates)])\n"
   ]
  },
  {
   "cell_type": "code",
   "execution_count": 152,
   "metadata": {
    "deletable": false,
    "editable": false,
    "nbgrader": {
     "cell_type": "code",
     "checksum": "9b8486454b3163a4f24fab7b5d06944d",
     "grade": true,
     "grade_id": "q2_test1",
     "locked": true,
     "points": 1,
     "schema_version": 2,
     "solution": false
    },
    "tags": [
     "test",
     "q02"
    ]
   },
   "outputs": [],
   "source": [
    "assert (len(bootstrap(np.ones(10), np.mean, simple_resample)) == 1000)\n",
    "assert (np.all(bootstrap(np.ones(10), np.mean, simple_resample, replicates = 1000) == np.ones(1000)))\n",
    "# chances are less than 3.9 in 10^22 that this test fails when the function is correct\n",
    "assert (sum(bootstrap(np.array([0,1]), np.median, simple_resample, replicates = 10000) == 0.5) in range(5000-500,5000+500))"
   ]
  },
  {
   "cell_type": "markdown",
   "metadata": {
    "deletable": false,
    "editable": false,
    "nbgrader": {
     "cell_type": "markdown",
     "checksum": "6f1a63e0a411e95964f95a996640a9da",
     "grade": false,
     "grade_id": "q2_text2",
     "locked": true,
     "schema_version": 2,
     "solution": false
    }
   },
   "source": [
    "Now let's use the bootstrap function to compute the distribution of the sample mean for the midterm grade.\n",
    "\n",
    "First, let's load the data."
   ]
  },
  {
   "cell_type": "code",
   "execution_count": 153,
   "metadata": {
    "deletable": false,
    "editable": false,
    "nbgrader": {
     "cell_type": "code",
     "checksum": "9da05139f55af67c1fa4640e8f4b749a",
     "grade": false,
     "grade_id": "q2_setup",
     "locked": true,
     "schema_version": 2,
     "solution": false
    }
   },
   "outputs": [
    {
     "data": {
      "text/html": [
       "<div>\n",
       "<style scoped>\n",
       "    .dataframe tbody tr th:only-of-type {\n",
       "        vertical-align: middle;\n",
       "    }\n",
       "\n",
       "    .dataframe tbody tr th {\n",
       "        vertical-align: top;\n",
       "    }\n",
       "\n",
       "    .dataframe thead th {\n",
       "        text-align: right;\n",
       "    }\n",
       "</style>\n",
       "<table border=\"1\" class=\"dataframe\">\n",
       "  <thead>\n",
       "    <tr style=\"text-align: right;\">\n",
       "      <th></th>\n",
       "      <th>Grade</th>\n",
       "    </tr>\n",
       "  </thead>\n",
       "  <tbody>\n",
       "    <tr>\n",
       "      <th>0</th>\n",
       "      <td>70.652174</td>\n",
       "    </tr>\n",
       "    <tr>\n",
       "      <th>1</th>\n",
       "      <td>85.418495</td>\n",
       "    </tr>\n",
       "    <tr>\n",
       "      <th>2</th>\n",
       "      <td>84.909697</td>\n",
       "    </tr>\n",
       "    <tr>\n",
       "      <th>3</th>\n",
       "      <td>55.759027</td>\n",
       "    </tr>\n",
       "    <tr>\n",
       "      <th>4</th>\n",
       "      <td>75.008190</td>\n",
       "    </tr>\n",
       "  </tbody>\n",
       "</table>\n",
       "</div>"
      ],
      "text/plain": [
       "       Grade\n",
       "0  70.652174\n",
       "1  85.418495\n",
       "2  84.909697\n",
       "3  55.759027\n",
       "4  75.008190"
      ]
     },
     "execution_count": 153,
     "metadata": {},
     "output_type": "execute_result"
    }
   ],
   "source": [
    "data = pd.read_csv(\"grades_sample.csv\")\n",
    "data.head()"
   ]
  },
  {
   "cell_type": "code",
   "execution_count": 154,
   "metadata": {
    "deletable": false,
    "editable": false,
    "nbgrader": {
     "cell_type": "code",
     "checksum": "9d07a998c3a814b60bf593ef7a2d8a82",
     "grade": false,
     "grade_id": "q2_setup2",
     "locked": true,
     "schema_version": 2,
     "solution": false
    }
   },
   "outputs": [
    {
     "name": "stderr",
     "output_type": "stream",
     "text": [
      "/home/sean/anaconda3/lib/python3.6/site-packages/matplotlib/axes/_axes.py:6462: UserWarning: The 'normed' kwarg is deprecated, and has been replaced by the 'density' kwarg.\n",
      "  warnings.warn(\"The 'normed' kwarg is deprecated, and has been \"\n"
     ]
    },
    {
     "data": {
      "text/plain": [
       "<matplotlib.collections.LineCollection at 0x7fceb1e767f0>"
      ]
     },
     "execution_count": 154,
     "metadata": {},
     "output_type": "execute_result"
    },
    {
     "data": {
      "image/png": "[encoded data removed]",
      "text/plain": [
       "<Figure size 432x288 with 1 Axes>"
      ]
     },
     "metadata": {},
     "output_type": "display_data"
    }
   ],
   "source": [
    "sns.distplot(data)\n",
    "plt.vlines(np.mean(data),0,1)"
   ]
  },
  {
   "cell_type": "markdown",
   "metadata": {
    "deletable": false,
    "editable": false,
    "nbgrader": {
     "cell_type": "markdown",
     "checksum": "fafd7ebb711cb0de23223391863d0cf5",
     "grade": false,
     "grade_id": "q2_text3",
     "locked": true,
     "schema_version": 2,
     "solution": false
    }
   },
   "source": [
    "Now use the right parameters to call our `bootstrap` method to obtain the sample mean $\\bar{X}$ for $m$ different bootstrap samples $\\{x_i\\}$. "
   ]
  },
  {
   "cell_type": "code",
   "execution_count": 155,
   "metadata": {
    "deletable": false,
    "nbgrader": {
     "cell_type": "code",
     "checksum": "27f3497ffe848b48966b7680252dd505",
     "grade": false,
     "grade_id": "q2_code2",
     "locked": false,
     "schema_version": 2,
     "solution": true
    }
   },
   "outputs": [],
   "source": [
    "m = 1000  # the number of resamples \n",
    "boot_pop = np.array(data[\"Grade\"])\n",
    "\n",
    "boot_sample_means = bootstrap(boot_pop,np.mean,simple_resample,m)"
   ]
  },
  {
   "cell_type": "code",
   "execution_count": 156,
   "metadata": {
    "deletable": false,
    "editable": false,
    "nbgrader": {
     "cell_type": "code",
     "checksum": "aa16c2cf08f8bbfb2aaddc5bcbc4d720",
     "grade": false,
     "grade_id": "q2_plot",
     "locked": true,
     "schema_version": 2,
     "solution": false
    }
   },
   "outputs": [
    {
     "name": "stderr",
     "output_type": "stream",
     "text": [
      "/home/sean/anaconda3/lib/python3.6/site-packages/matplotlib/axes/_axes.py:6462: UserWarning: The 'normed' kwarg is deprecated, and has been replaced by the 'density' kwarg.\n",
      "  warnings.warn(\"The 'normed' kwarg is deprecated, and has been \"\n"
     ]
    },
    {
     "data": {
      "text/plain": [
       "Text(0,0.5,'Frequency')"
      ]
     },
     "execution_count": 156,
     "metadata": {},
     "output_type": "execute_result"
    },
    {
     "data": {
      "image/png": "[encoded data removed]",
      "text/plain": [
       "<Figure size 432x288 with 1 Axes>"
      ]
     },
     "metadata": {},
     "output_type": "display_data"
    }
   ],
   "source": [
    "sns.distplot(boot_sample_means)\n",
    "plt.xlabel(r\"$\\bar{X}$\")\n",
    "plt.ylabel(\"Frequency\")"
   ]
  },
  {
   "cell_type": "code",
   "execution_count": 157,
   "metadata": {
    "deletable": false,
    "editable": false,
    "nbgrader": {
     "cell_type": "code",
     "checksum": "b104bea554b9f3f0c3441f12fdb5f5d1",
     "grade": true,
     "grade_id": "q2_test2",
     "locked": true,
     "points": 1,
     "schema_version": 2,
     "solution": false
    }
   },
   "outputs": [],
   "source": [
    "boot_mean_mean = np.mean(boot_sample_means)\n",
    "boot_var_mean = np.var(boot_sample_means)\n",
    "assert len(boot_sample_means) == m\n",
    "assert 80 < boot_mean_mean < 81\n",
    "assert 0.3 < boot_var_mean < 0.5"
   ]
  },
  {
   "cell_type": "markdown",
   "metadata": {
    "deletable": false,
    "editable": false,
    "nbgrader": {
     "cell_type": "markdown",
     "checksum": "926dd41a68a8a83a355d5fc65663637f",
     "grade": false,
     "grade_id": "q2_text4",
     "locked": true,
     "schema_version": 2,
     "solution": false
    }
   },
   "source": [
    "Now use the right parameters to call our `bootstrap` method to obtain the standard deviation $\\sqrt{\\frac{1}{n}\\sum_{i=1}^{n} (x_i-\\bar{X})^2}$ for $m$ different bootstrap samples $\\{x_i\\}$. You should use `np.std`"
   ]
  },
  {
   "cell_type": "code",
   "execution_count": 158,
   "metadata": {
    "deletable": false,
    "nbgrader": {
     "cell_type": "code",
     "checksum": "57e597aeded682851885c8d976c5c7fa",
     "grade": false,
     "grade_id": "q2_code3",
     "locked": false,
     "schema_version": 2,
     "solution": true
    }
   },
   "outputs": [],
   "source": [
    "m = 1000\n",
    "boot_pop = np.array(data[\"Grade\"])\n",
    "\n",
    "boot_sample_std = bootstrap(boot_pop, np.std, simple_resample, m)"
   ]
  },
  {
   "cell_type": "code",
   "execution_count": 159,
   "metadata": {},
   "outputs": [
    {
     "data": {
      "text/plain": [
       "array([ 8.81306191,  8.30294879,  9.19240926,  8.8692361 ,  8.73436787,\n",
       "        9.19204932,  9.20679386,  8.66752154,  8.95369633,  8.61266119,\n",
       "        8.85825013,  8.74409598,  8.80104841,  8.74899652,  8.31177671,\n",
       "        8.31446992,  8.37915212,  8.59522929,  8.1864823 ,  9.10828164,\n",
       "        9.08482335,  9.6782773 ,  8.31143414,  8.60162344,  8.62099362,\n",
       "        8.65792535,  8.59526493,  9.38991081,  7.95753161,  9.10007263,\n",
       "        8.91934998,  8.48966218,  8.45151392,  8.24983452,  8.79399119,\n",
       "        9.26596906,  9.14483781,  9.20218675,  7.67316022,  8.43628108,\n",
       "        8.06287449,  8.22601832,  8.00773606,  8.67405578,  8.56411182,\n",
       "        9.43854135,  8.86842626,  9.3122998 ,  8.31513824,  8.45745068,\n",
       "        8.28434487,  8.47312223,  8.1095002 ,  8.53327077,  8.34081321,\n",
       "        8.52690719,  9.01889198,  9.01222976,  8.45608496, 10.18529153,\n",
       "        8.97371491,  9.26253814,  8.47297871,  8.65501832,  9.31966415,\n",
       "        7.7461568 ,  8.42320063,  8.90681183,  8.95291056,  8.88216931,\n",
       "        8.65248302,  9.23003489,  8.70092611,  8.58795497,  9.38951497,\n",
       "        8.64166376,  8.45630376,  8.29111858,  8.74963351,  8.83887389,\n",
       "        8.90319137,  8.85062041,  9.21417531,  8.2227078 ,  8.99197724,\n",
       "        8.37949922,  8.53453558,  8.41039385,  8.86516941,  9.74917996,\n",
       "        8.28936128,  8.83407774,  8.92741481,  8.51358345,  8.5816547 ,\n",
       "        8.74710245,  8.75222722,  8.18662362,  8.24576386,  8.46348033,\n",
       "        9.11179945,  9.07832517,  9.47038425,  8.3901385 ,  9.06574668,\n",
       "        8.71389937,  8.10661388,  8.28971154,  8.85013976,  8.72408146,\n",
       "        9.01113494,  8.68423372,  9.96151405,  9.28911254,  9.1715546 ,\n",
       "        8.75588296,  8.41491043,  9.57515089,  8.13168341,  8.51777547,\n",
       "        9.21110981,  9.11595682,  9.19311134,  8.80927037,  8.78166246,\n",
       "        8.49691441,  9.08963013,  8.6156847 ,  8.82246158,  9.62362315,\n",
       "        8.2789544 ,  8.54310267,  7.83845741,  8.27450095,  8.37020526,\n",
       "        8.78934458,  8.15941207,  8.4417786 ,  8.29932904,  8.1984268 ,\n",
       "        8.29648933,  9.00028449,  8.60662019,  8.38562177,  8.66715016,\n",
       "        8.97498631,  9.37290715,  9.17837193,  8.88180791,  7.9564804 ,\n",
       "        8.79664597,  8.95820713,  8.21850702,  9.23247386,  8.59553037,\n",
       "        9.38594167,  9.75491912,  7.80047965,  7.97594175,  9.15201368,\n",
       "        9.04407825,  8.50017449,  8.77278449,  9.02647977,  9.13536722,\n",
       "        8.95411065,  9.68808592,  7.95512498,  9.29289811,  8.65360323,\n",
       "        8.59413048,  8.11161839,  8.91343709,  8.0448309 ,  8.26372135,\n",
       "        8.57034923,  9.11212561,  9.16646281,  8.91751047,  9.01828578,\n",
       "        8.77175569,  9.10641733,  8.68119395,  9.37455325,  8.17865484,\n",
       "        9.54266855,  8.32312008,  7.96724235,  9.25671393,  8.00817798,\n",
       "        8.37145073,  7.82780169,  7.98310403,  8.28364214,  8.93782275,\n",
       "        9.20520623, 10.50248167,  8.34365451,  9.33752704,  9.11562044,\n",
       "        7.40660309,  8.2597983 ,  8.27295612,  9.4866688 ,  8.69852229,\n",
       "        8.63323494,  8.96577658,  8.76303157,  9.03125526,  8.67418012,\n",
       "        8.53842515,  8.95733548,  8.50538321,  7.60957068,  8.819479  ,\n",
       "        9.55004234,  9.45297757,  8.6968    ,  9.09324292,  9.01579511,\n",
       "        8.26132552,  8.61981741,  8.82062131,  9.05969547,  9.23210928,\n",
       "        7.80436859,  8.56270391,  8.60112593,  8.67280196,  8.89264116,\n",
       "        8.4824585 ,  9.77503523,  8.23299563,  8.55791261,  7.59944207,\n",
       "        8.6984174 ,  8.17563783,  8.92386123,  8.57766609,  8.21105539,\n",
       "        8.99684186,  8.90479811,  8.55062157,  8.76262347,  8.21513761,\n",
       "        8.87089972,  9.40272217,  7.86492604,  9.05057906,  8.67485478,\n",
       "        8.90453779,  9.01839173,  8.80181008,  7.76858081,  8.66732609,\n",
       "        8.63668533,  9.51062076,  8.72260383,  9.21986468,  7.58357324,\n",
       "        9.69868328,  8.87194408,  9.33995155,  8.86632361,  9.04302574,\n",
       "        7.87332819,  9.22404402,  9.01916674,  9.40150792,  9.02547411,\n",
       "        9.74374581,  7.91691668,  8.71421218,  8.8687179 ,  8.39622747,\n",
       "        8.38230217,  9.03149102,  7.51458536,  8.80254489,  8.56825411,\n",
       "        8.19584617,  8.56281858,  9.39989586,  9.78832714,  8.9775181 ,\n",
       "        8.70682495,  9.16886292,  8.28982308,  7.90868543,  9.19234197,\n",
       "        8.51951677,  8.74204831,  8.70483571,  8.92415852,  8.77960317,\n",
       "        8.74279986,  8.59526278,  8.69466808,  9.8259083 ,  9.16642983,\n",
       "        8.42614077,  8.98074406,  8.51134458,  8.79879763,  8.6155988 ,\n",
       "        8.40422164,  8.4962386 ,  8.8575877 ,  9.48351008,  8.7232427 ,\n",
       "        9.01448349,  7.73653388,  8.09878809,  7.41224433,  9.30328318,\n",
       "        9.56901386,  8.42851594,  8.84084361,  8.61070182,  9.20967293,\n",
       "        8.26159512,  9.03664353,  7.9926444 ,  8.70505257,  8.60782228,\n",
       "        9.65642313,  7.99663342,  8.47242424,  8.57074427,  8.77316017,\n",
       "        8.74403179,  7.39487769,  8.85231789,  8.11842064,  7.73707389,\n",
       "        8.25001931,  8.26297464,  8.93610298,  8.91102126,  9.14347952,\n",
       "        9.11727368,  8.33861836,  9.49809767,  9.07886836,  8.22081774,\n",
       "        8.19334899,  8.80872362,  8.29464044,  8.34288912,  8.2455793 ,\n",
       "        8.70171896,  8.43681707,  8.72526673,  8.77692365,  9.04074036,\n",
       "        9.84919046,  9.41081895,  8.33431515,  8.64852125,  8.37459519,\n",
       "        8.32020975,  8.83550566,  8.93975971,  9.0820918 ,  8.28311467,\n",
       "        8.79054616,  9.10651167,  8.63616223,  9.73548378,  8.92106816,\n",
       "        8.91076767,  9.24134049,  8.69717749,  9.24132896,  9.3210663 ,\n",
       "        7.29628958,  8.45004733,  9.98589585,  9.07142234,  8.42608392,\n",
       "        9.13750708,  8.24125803,  8.42681238,  8.64350099,  8.42132598,\n",
       "        8.28015123,  8.93549633,  7.61215043,  8.41970691,  8.56924241,\n",
       "        8.56953561,  8.56503384,  8.46879257,  8.694212  ,  7.71159222,\n",
       "        8.86467483,  8.77476909,  8.85745881,  8.87948183,  9.03705214,\n",
       "        8.07157893,  9.27784516,  8.85606632,  8.63117091,  8.79584248,\n",
       "        9.46750054,  9.01673803,  9.27620233,  8.44922421,  9.37673917,\n",
       "        8.34975123,  9.43991398,  8.29448717,  8.27612215,  7.91678017,\n",
       "        7.5715655 ,  9.93564847,  8.23610639,  8.81738483, 10.0690643 ,\n",
       "        8.53281491,  8.72684326,  9.2459591 ,  9.08262959,  9.01074107,\n",
       "        9.33407954,  8.82420363,  9.42443405,  8.68689837,  8.82878451,\n",
       "        8.38769812,  9.674193  ,  8.91542285,  8.2790408 ,  8.96601931,\n",
       "        9.23553283,  9.87431072,  9.34189186,  8.55961819,  8.60794492,\n",
       "        9.46969291,  9.20029699,  8.16711441,  9.53127793,  8.25253524,\n",
       "        8.62089565,  8.30279362,  8.76164467,  8.38195893,  8.10718312,\n",
       "        8.4310381 ,  7.4571064 ,  9.82579368,  8.51779176,  8.86632814,\n",
       "        8.59616948,  8.51666394,  8.96879234,  8.72961858,  8.71122543,\n",
       "        9.05515825,  8.17109333,  8.05228122,  8.50786008,  7.93825704,\n",
       "        8.13249264,  8.62709199,  8.32203318,  8.55789998,  8.3601408 ,\n",
       "        8.47490238,  9.31249496,  9.08649405,  8.4808971 ,  8.78006411,\n",
       "        9.14857341,  7.98616093,  8.79300032,  9.14027738,  8.31580011,\n",
       "        8.43758649,  8.25588708,  9.17546471,  7.56089039,  8.89973114,\n",
       "        8.71814366,  8.64652872,  7.97117976,  7.92130655,  8.80824884,\n",
       "        9.64448594,  8.58468493,  8.11067422,  9.30425928,  8.38265172,\n",
       "        8.59951864,  8.30475428,  9.61223666,  8.20027605,  9.72455261,\n",
       "        8.41841857,  7.81904077,  8.671857  ,  9.112088  ,  8.3400175 ,\n",
       "        8.65936832,  9.69919948,  9.55700997, 10.20759283,  7.92242375,\n",
       "        7.8179829 ,  8.20144011,  9.55982756,  9.71614515,  8.00336739,\n",
       "        8.64863008,  9.07189253,  8.14530473,  9.24888115,  7.90923259,\n",
       "        8.39420116,  8.62220081,  9.17958396,  8.5425468 ,  9.92332731,\n",
       "        8.33129089,  9.85270182,  9.5299747 ,  8.78198191,  7.61478407,\n",
       "        8.5196343 ,  8.59137916,  8.44324952,  8.39661982,  9.12620637,\n",
       "        8.63339889,  8.36526096,  8.14235422,  9.01312227,  8.99722401,\n",
       "        8.9448095 ,  8.59167501,  8.92443236,  9.94965959,  8.96034847,\n",
       "        8.03790292,  8.61590515,  8.55519924,  8.952987  ,  8.3467537 ,\n",
       "        8.21529915,  9.73075955,  7.70376884,  7.66308626,  8.3059158 ,\n",
       "        8.70059133,  8.21951833,  9.32226802,  9.04104726,  9.09942263,\n",
       "        8.66079431,  9.32141205,  8.23254802,  8.91144542,  8.32486977,\n",
       "        8.94183922,  8.80219556,  8.55208327,  8.62766905,  9.08249347,\n",
       "        8.34419827,  9.24743181,  8.77387697,  8.8905843 ,  8.15764652,\n",
       "        9.21150047,  8.5722262 ,  8.41498071,  9.23564138,  9.17059893,\n",
       "        9.22776784,  9.90972397,  8.53615199,  8.29187219,  9.41832951,\n",
       "        9.03493588,  8.82133172,  8.8633107 ,  8.35895939, 10.02202264,\n",
       "        8.5440974 ,  8.94579817,  8.92620342,  9.15971033,  8.39974581,\n",
       "        8.949014  ,  8.84920193,  8.63597512,  7.74846196,  8.51149726,\n",
       "        9.89483   ,  8.46147893,  8.788025  ,  8.50144939,  8.60110931,\n",
       "        8.16477952,  8.95218395,  9.28411956,  8.07730208,  9.5387125 ,\n",
       "        8.10586417,  9.66720175,  8.83647781,  9.49120668,  8.03606546,\n",
       "        8.81561718,  8.11299948,  7.85589138,  8.22632815,  8.42053711,\n",
       "        9.30759802,  7.26130013,  9.36007451,  9.42611837,  7.747338  ,\n",
       "        8.11438829,  8.66650356,  8.96075055,  8.61517357,  8.42597788,\n",
       "        8.76607489,  8.52804073,  8.62465008,  8.13354405,  8.70064306,\n",
       "        9.45777623,  8.24241073,  8.08327817,  8.72296556,  9.26542177,\n",
       "        8.62592996,  8.85630985,  8.97068883,  9.11300038,  9.34664846,\n",
       "        8.91892494,  9.21058291,  8.54089638,  8.71593465,  9.0107762 ,\n",
       "        7.77559893,  8.29779367,  7.47120511,  8.1827168 ,  8.49453315,\n",
       "        8.47530686,  9.70426333,  7.76731476,  8.24415538,  8.3532156 ,\n",
       "        8.92707036,  8.5115816 ,  8.43648152,  8.38370122,  9.14798385,\n",
       "        8.97511992, 10.16907533,  8.65649057,  9.00101778,  8.45413774,\n",
       "        8.30099185,  8.56941304,  8.74241296,  8.76025257,  8.23036913,\n",
       "        8.94382779,  8.65126324,  8.113565  ,  8.88472809,  8.95898545,\n",
       "        8.77380986,  8.09670362,  8.86788589,  9.14368567,  8.71853666,\n",
       "        9.56007649,  9.85119086,  8.54603227,  9.12353699,  8.4603419 ,\n",
       "        8.99549427,  8.24478937,  8.60838311,  9.32913699,  9.49727705,\n",
       "        8.18063564,  9.36057235,  8.80332729,  8.24623606,  8.16565028,\n",
       "        9.450487  ,  8.34190432,  8.8466738 ,  8.03098336,  8.49938304,\n",
       "        9.01871645,  8.89485267,  8.92408774,  9.04119233,  7.82427024,\n",
       "        9.27651107,  8.26085108,  7.54746802,  8.80939745,  9.3332064 ,\n",
       "        8.29971538,  8.95147679,  8.93167179,  8.62938362,  9.17930234,\n",
       "        8.21779385,  8.59041458,  8.91227106,  8.92747599,  9.11463169,\n",
       "        8.51888881,  8.9632547 ,  9.39596603,  9.01533269,  8.56113219,\n",
       "        8.28102713,  8.63094748,  8.93482956,  8.47615478,  8.78724834,\n",
       "        9.44520799,  8.40469007,  8.5641424 ,  8.15118177,  8.88201879,\n",
       "        8.9830314 ,  9.0488689 ,  8.5972843 ,  8.77515171,  8.49922612,\n",
       "        8.70783114,  9.23730383,  8.74416256,  8.8181892 ,  8.53030947,\n",
       "        9.05734658,  8.11157585,  8.6395659 ,  8.56097282,  8.70073853,\n",
       "        9.28691761,  8.91369642,  8.42423324,  9.03728652,  8.16338703,\n",
       "        8.71126532,  8.05264901,  7.67881229,  8.9840122 ,  9.13663855,\n",
       "        7.46991704,  8.88947415,  8.78589848,  8.85360263,  9.40590055,\n",
       "        8.93731796,  9.24452527,  9.6339468 ,  9.36843966,  8.41646464,\n",
       "        9.16375842,  8.72378841,  9.03471784,  9.41059312,  8.56079777,\n",
       "        9.83281865,  7.84596371,  9.02126218,  8.48465818,  8.52654174,\n",
       "        9.372472  ,  8.61886256,  9.32063691,  8.98541043,  7.60789003,\n",
       "        8.97300077,  8.73287613,  8.84108696,  9.09054362,  8.47647142,\n",
       "        9.17868913,  9.06603542,  8.59834278,  8.46414663,  9.2096797 ,\n",
       "        8.45089585,  9.49964569,  8.94169816,  8.2773861 ,  8.41952654,\n",
       "        8.44384582,  9.35552232,  8.99736415,  9.21312419,  9.50160553,\n",
       "        8.83411519,  8.6573428 ,  8.98481623,  9.0361489 ,  8.75603846,\n",
       "        8.62926445,  9.02897218,  8.2725614 ,  9.14011685,  8.99996713,\n",
       "        9.40928765,  9.54258321,  8.55004256,  8.08501934,  8.26492569,\n",
       "        8.60699373,  8.30473161,  8.61491662,  8.26692847,  8.51335167,\n",
       "        8.51652022,  8.64270805,  8.89120912,  7.90197107,  8.56632344,\n",
       "        7.67421073,  9.38807153,  7.87537199,  8.39596082,  9.08731901,\n",
       "        8.34218168,  8.661538  ,  9.61959171,  8.84269938,  9.15955713,\n",
       "        8.22633792,  8.88047999,  8.731726  ,  8.84235187,  8.16348392,\n",
       "        7.68506934,  9.02033587,  8.38249301,  9.15111953,  9.49698033,\n",
       "        8.64642373,  9.94903522,  9.05617605,  9.21083164,  9.29168563,\n",
       "        8.71815476,  9.17231093,  8.54156293,  9.23593333,  8.26993506,\n",
       "        8.8227964 ,  7.4978597 ,  9.17691049,  8.73197775,  9.15158894,\n",
       "        9.10800756,  9.71631689,  9.73160684,  9.41381105,  9.05629447,\n",
       "        8.83927003,  8.94029125,  8.9669314 ,  9.14795916,  8.58659443,\n",
       "        8.98231913,  8.68309516,  8.9413303 ,  8.33057061,  9.26089625,\n",
       "        8.43265029,  9.17886312,  8.71096606,  8.2244951 ,  9.10119555,\n",
       "        8.37361239,  8.75822523,  9.08411506,  8.38123137,  8.70554858,\n",
       "        9.33721083,  8.65674416,  8.37565382,  9.53831367,  9.73662139,\n",
       "        8.95299715,  9.41891503,  9.47757987,  9.47878405,  9.22986124,\n",
       "        9.10578751,  8.5478782 ,  9.34529438,  9.06498889,  8.13868593,\n",
       "        8.9630561 ,  8.76165742,  8.82957213,  8.70362599,  9.30488366,\n",
       "        9.39343993,  9.42932791,  8.05975023,  8.85757942,  8.70619153,\n",
       "        9.80721784,  8.09464014,  9.27004546,  8.91053031,  9.04536063,\n",
       "        8.55754284,  8.50387041,  9.07948941,  8.38736094,  8.13641581,\n",
       "        8.47587268,  8.35031587,  8.07054564,  8.05137422,  8.52995923,\n",
       "        9.02512184,  9.00747931,  8.30745909,  9.49199149,  8.30414192,\n",
       "        9.075765  ,  8.22485527,  8.83317978,  8.8084108 ,  9.26287998,\n",
       "        8.55562745,  9.11295573,  8.81531397,  8.37289223,  8.94180228,\n",
       "        8.6036816 ,  8.13601543,  8.4802068 ,  9.37346436,  9.87680917,\n",
       "        8.65178919,  7.71424261,  8.94758712,  8.09541709,  8.59185193,\n",
       "        8.66341456,  9.06945336,  8.45262478,  9.01561585,  8.43846287,\n",
       "       10.11271571,  9.10297062,  7.47498023,  8.42482988,  8.07723195,\n",
       "        9.5285165 ,  8.49342622,  8.30794965,  8.53137917,  8.89422494,\n",
       "        8.65668758,  8.75747938,  9.28878669,  8.29756348,  8.63121076,\n",
       "        8.18487492,  8.995171  ,  9.29770475,  9.06146492,  8.98131986,\n",
       "        8.99652386,  8.82497191,  9.28582671,  9.52568285,  8.61598993,\n",
       "        9.22654301,  8.33421897,  9.0615837 ,  8.94452278,  9.92531034,\n",
       "        9.69306933,  8.59557081,  8.93866734,  8.88758307,  7.59160648])"
      ]
     },
     "execution_count": 159,
     "metadata": {},
     "output_type": "execute_result"
    }
   ],
   "source": [
    "boot_sample_std"
   ]
  },
  {
   "cell_type": "code",
   "execution_count": 160,
   "metadata": {
    "deletable": false,
    "editable": false,
    "nbgrader": {
     "cell_type": "code",
     "checksum": "02e64e09cdddffa22419fb0c7aeec17f",
     "grade": true,
     "grade_id": "q2_test3",
     "locked": true,
     "points": 1,
     "schema_version": 2,
     "solution": false
    }
   },
   "outputs": [],
   "source": [
    "boot_mean_std = np.mean(boot_sample_std)\n",
    "boot_var_std = np.var(boot_sample_std)\n",
    "assert len(boot_sample_std) == m\n",
    "assert 7 < boot_mean_std < 10\n",
    "assert 0.23 < boot_var_std < 0.29"
   ]
  },
  {
   "cell_type": "code",
   "execution_count": 161,
   "metadata": {
    "deletable": false,
    "editable": false,
    "nbgrader": {
     "cell_type": "code",
     "checksum": "3b3b3d907049f426cca82ae9b321e656",
     "grade": false,
     "grade_id": "q2_plot2",
     "locked": true,
     "schema_version": 2,
     "solution": false
    }
   },
   "outputs": [
    {
     "name": "stderr",
     "output_type": "stream",
     "text": [
      "/home/sean/anaconda3/lib/python3.6/site-packages/matplotlib/axes/_axes.py:6462: UserWarning: The 'normed' kwarg is deprecated, and has been replaced by the 'density' kwarg.\n",
      "  warnings.warn(\"The 'normed' kwarg is deprecated, and has been \"\n"
     ]
    },
    {
     "data": {
      "text/plain": [
       "Text(0,0.5,'Frequency')"
      ]
     },
     "execution_count": 161,
     "metadata": {},
     "output_type": "execute_result"
    },
    {
     "data": {
      "image/png": "[encoded data removed]",
      "text/plain": [
       "<Figure size 432x288 with 1 Axes>"
      ]
     },
     "metadata": {},
     "output_type": "display_data"
    }
   ],
   "source": [
    "sns.distplot(boot_sample_std)\n",
    "plt.xlabel(r\"$STD(X)$\")\n",
    "plt.ylabel(\"Frequency\")"
   ]
  },
  {
   "cell_type": "markdown",
   "metadata": {
    "deletable": false,
    "editable": false,
    "nbgrader": {
     "cell_type": "markdown",
     "checksum": "efd791fe80928eb529931a6f66455215",
     "grade": false,
     "grade_id": "q2_true",
     "locked": true,
     "schema_version": 2,
     "solution": false
    }
   },
   "source": [
    "The true mean for the midterm grade is 80.1, and the standard deviation is 9.20 Compare your results with them."
   ]
  },
  {
   "cell_type": "markdown",
   "metadata": {
    "deletable": false,
    "editable": false,
    "nbgrader": {
     "cell_type": "markdown",
     "checksum": "61d832f88001fb4cf3d44c4dd96bf647",
     "grade": false,
     "grade_id": "q3_text1",
     "locked": true,
     "schema_version": 2,
     "solution": false
    }
   },
   "source": [
    "### Question 3\n",
    "Now let's use the bootstrap method to analyze an estimator we used in the previous lab. \n",
    "\n",
    "Again, we use following mathematical model to predict Tips from TotalBill:\n",
    "\n",
    "$$\\Large\n",
    "\\texttt{Tip} = \\theta^*  \\times \\texttt{TotalBill}\n",
    "$$\n",
    "\n",
    "This follows the similar intuition that tips are some **unknown** percentage of the total bill.  We will then try to estimate the slope of this relationship which corresponds to the percent tip. Here the parameter $\\theta^*$ represents the true percent tip that we would like to estimate.\n",
    "\n",
    "As we already know, for L2 loss function:\n",
    "$$\\Large\n",
    "L\\left(\\theta, \\mathcal{D}\\right) = \\frac{1}{n} \\sum_{i=1}^n L(m_\\theta(x_i), y_i) = \\frac{1}{n} \\sum_{i=1}^n (\\theta *  x_i - y_i)^2\n",
    "$$\n",
    "\n",
    "Where, $x_i$ is the TotalBill, $y_i$ is the Tips.\n",
    "\n",
    "The optimal $\\theta$ would be:\n",
    "$$\\Large {\\theta} = \\frac{\\sum x_iy_i}{\\sum x_i^2}$$\n",
    "\n",
    "Let's use the bootstrap method to see what's the variance for this estimator.\n"
   ]
  },
  {
   "cell_type": "code",
   "execution_count": 162,
   "metadata": {
    "deletable": false,
    "editable": false,
    "nbgrader": {
     "cell_type": "code",
     "checksum": "8acd66937179f77a7939d65db70c63c2",
     "grade": false,
     "grade_id": "q3_setup1",
     "locked": true,
     "schema_version": 2,
     "solution": false
    }
   },
   "outputs": [
    {
     "data": {
      "text/html": [
       "<div>\n",
       "<style scoped>\n",
       "    .dataframe tbody tr th:only-of-type {\n",
       "        vertical-align: middle;\n",
       "    }\n",
       "\n",
       "    .dataframe tbody tr th {\n",
       "        vertical-align: top;\n",
       "    }\n",
       "\n",
       "    .dataframe thead th {\n",
       "        text-align: right;\n",
       "    }\n",
       "</style>\n",
       "<table border=\"1\" class=\"dataframe\">\n",
       "  <thead>\n",
       "    <tr style=\"text-align: right;\">\n",
       "      <th></th>\n",
       "      <th>total_bill</th>\n",
       "      <th>tip</th>\n",
       "      <th>sex</th>\n",
       "      <th>smoker</th>\n",
       "      <th>day</th>\n",
       "      <th>time</th>\n",
       "      <th>size</th>\n",
       "    </tr>\n",
       "  </thead>\n",
       "  <tbody>\n",
       "    <tr>\n",
       "      <th>0</th>\n",
       "      <td>16.99</td>\n",
       "      <td>1.01</td>\n",
       "      <td>Female</td>\n",
       "      <td>No</td>\n",
       "      <td>Sun</td>\n",
       "      <td>Dinner</td>\n",
       "      <td>2</td>\n",
       "    </tr>\n",
       "    <tr>\n",
       "      <th>1</th>\n",
       "      <td>10.34</td>\n",
       "      <td>1.66</td>\n",
       "      <td>Male</td>\n",
       "      <td>No</td>\n",
       "      <td>Sun</td>\n",
       "      <td>Dinner</td>\n",
       "      <td>3</td>\n",
       "    </tr>\n",
       "    <tr>\n",
       "      <th>2</th>\n",
       "      <td>21.01</td>\n",
       "      <td>3.50</td>\n",
       "      <td>Male</td>\n",
       "      <td>No</td>\n",
       "      <td>Sun</td>\n",
       "      <td>Dinner</td>\n",
       "      <td>3</td>\n",
       "    </tr>\n",
       "    <tr>\n",
       "      <th>3</th>\n",
       "      <td>23.68</td>\n",
       "      <td>3.31</td>\n",
       "      <td>Male</td>\n",
       "      <td>No</td>\n",
       "      <td>Sun</td>\n",
       "      <td>Dinner</td>\n",
       "      <td>2</td>\n",
       "    </tr>\n",
       "    <tr>\n",
       "      <th>4</th>\n",
       "      <td>24.59</td>\n",
       "      <td>3.61</td>\n",
       "      <td>Female</td>\n",
       "      <td>No</td>\n",
       "      <td>Sun</td>\n",
       "      <td>Dinner</td>\n",
       "      <td>4</td>\n",
       "    </tr>\n",
       "  </tbody>\n",
       "</table>\n",
       "</div>"
      ],
      "text/plain": [
       "   total_bill   tip     sex smoker  day    time  size\n",
       "0       16.99  1.01  Female     No  Sun  Dinner     2\n",
       "1       10.34  1.66    Male     No  Sun  Dinner     3\n",
       "2       21.01  3.50    Male     No  Sun  Dinner     3\n",
       "3       23.68  3.31    Male     No  Sun  Dinner     2\n",
       "4       24.59  3.61  Female     No  Sun  Dinner     4"
      ]
     },
     "execution_count": 162,
     "metadata": {},
     "output_type": "execute_result"
    }
   ],
   "source": [
    "data = sns.load_dataset(\"tips\")\n",
    "data.head()"
   ]
  },
  {
   "cell_type": "code",
   "execution_count": 163,
   "metadata": {
    "deletable": false,
    "editable": false,
    "nbgrader": {
     "cell_type": "code",
     "checksum": "87d8f5bdd2396406d20a573f2667f97a",
     "grade": false,
     "grade_id": "q3_setup2",
     "locked": true,
     "schema_version": 2,
     "solution": false
    }
   },
   "outputs": [
    {
     "data": {
      "text/plain": [
       "[<matplotlib.lines.Line2D at 0x7fceb600ef98>]"
      ]
     },
     "execution_count": 163,
     "metadata": {},
     "output_type": "execute_result"
    },
    {
     "data": {
      "image/png": "[encoded data removed]",
      "text/plain": [
       "<Figure size 432x288 with 1 Axes>"
      ]
     },
     "metadata": {},
     "output_type": "display_data"
    }
   ],
   "source": [
    "x = np.array(data[\"total_bill\"])\n",
    "y = np.array(data[\"tip\"])\n",
    "d = np.array((x,y)).transpose()\n",
    "plt.plot(d[:,0],d[:,1],\".\")"
   ]
  },
  {
   "cell_type": "markdown",
   "metadata": {
    "deletable": false,
    "editable": false,
    "nbgrader": {
     "cell_type": "markdown",
     "checksum": "a3ef1235f3d21c103ffa7aba2bcdaef5",
     "grade": false,
     "grade_id": "q3_text2",
     "locked": true,
     "schema_version": 2,
     "solution": false
    }
   },
   "source": [
    "Write an estimator function to compute $\\theta$ using the formula:  \n",
    "$$\\large {\\theta} = \\frac{\\sum x_iy_i}{\\sum x_i^2}$$\n",
    "\n",
    "Note that in order to do bootstrap, we need to combine `x`, `y` to into a $n*2$ array `d`. So `d[:,0]` is equivalent with `x` and `d[:,1]` is equivalent with `y`."
   ]
  },
  {
   "cell_type": "code",
   "execution_count": 164,
   "metadata": {
    "deletable": false,
    "nbgrader": {
     "cell_type": "code",
     "checksum": "d9390295ff93f785f8b6b841203b5726",
     "grade": false,
     "grade_id": "q3_code1",
     "locked": false,
     "schema_version": 2,
     "solution": true
    }
   },
   "outputs": [],
   "source": [
    "def estimator(d):\n",
    "    \"\"\"\n",
    "    Args:\n",
    "        d: A n*2 array which contains x and y. d[:,0] would be x, d[:,1] would be y.\n",
    "        \n",
    "    Returns:\n",
    "        The optimal theta for this dataset under L2 loss.\n",
    "    \"\"\"\n",
    "    x = d[:,0]\n",
    "    y = d[:,1]\n",
    "    return (x*y).sum() / (x**2).sum()"
   ]
  },
  {
   "cell_type": "code",
   "execution_count": 165,
   "metadata": {},
   "outputs": [
    {
     "data": {
      "text/plain": [
       "0.14373189527721666"
      ]
     },
     "execution_count": 165,
     "metadata": {},
     "output_type": "execute_result"
    }
   ],
   "source": [
    "estimator(d)"
   ]
  },
  {
   "cell_type": "code",
   "execution_count": 166,
   "metadata": {
    "deletable": false,
    "editable": false,
    "nbgrader": {
     "cell_type": "code",
     "checksum": "d0a03a7c63a0c3894b3d7b11e61e2bf4",
     "grade": true,
     "grade_id": "q3_test1",
     "locked": true,
     "points": 1,
     "schema_version": 2,
     "solution": false
    }
   },
   "outputs": [],
   "source": [
    "assert np.isclose(estimator(d),0.14373189527721666)"
   ]
  },
  {
   "cell_type": "code",
   "execution_count": 171,
   "metadata": {},
   "outputs": [
    {
     "data": {
      "text/plain": [
       "array([10.34,  1.66])"
      ]
     },
     "execution_count": 171,
     "metadata": {},
     "output_type": "execute_result"
    }
   ],
   "source": [
    "d[1]"
   ]
  },
  {
   "cell_type": "markdown",
   "metadata": {
    "deletable": false,
    "editable": false,
    "nbgrader": {
     "cell_type": "markdown",
     "checksum": "9115a8f6aff142f337851c05913c1b61",
     "grade": false,
     "grade_id": "q3_text3",
     "locked": true,
     "schema_version": 2,
     "solution": false
    }
   },
   "source": [
    "Now let's use our previous `bootstrap` function to obtain different estimated $\\theta$. You should use the `estimator` function as the `statistic` parameter."
   ]
  },
  {
   "cell_type": "code",
   "execution_count": 172,
   "metadata": {
    "deletable": false,
    "nbgrader": {
     "cell_type": "code",
     "checksum": "56e1b5edab6915b5e800d8e523d76321",
     "grade": false,
     "grade_id": "q3_code2",
     "locked": false,
     "schema_version": 2,
     "solution": true
    }
   },
   "outputs": [],
   "source": [
    "replicates = 1000\n",
    "boot_theta = bootstrap(d, estimator, simple_resample, replicates)  "
   ]
  },
  {
   "cell_type": "code",
   "execution_count": 173,
   "metadata": {
    "deletable": false,
    "editable": false,
    "nbgrader": {
     "cell_type": "code",
     "checksum": "928102048c97931b340b1da87a856b64",
     "grade": true,
     "grade_id": "q3_test2",
     "locked": true,
     "points": 1,
     "schema_version": 2,
     "solution": false
    }
   },
   "outputs": [],
   "source": [
    "boot_theta_mean = np.mean(boot_theta)\n",
    "boot_theta_var = np.var(boot_theta)\n",
    "assert len(boot_theta) == replicates\n",
    "assert 0.14<=boot_theta_mean<=0.15\n",
    "assert boot_theta_var < 1e-4"
   ]
  },
  {
   "cell_type": "markdown",
   "metadata": {
    "deletable": false,
    "editable": false,
    "nbgrader": {
     "cell_type": "markdown",
     "checksum": "ed841cba660c7abf11720aa70e8738ec",
     "grade": false,
     "grade_id": "q3_text4",
     "locked": true,
     "schema_version": 2,
     "solution": false
    }
   },
   "source": [
    "Finally, let's plot the distribution of `boot_theta`."
   ]
  },
  {
   "cell_type": "code",
   "execution_count": 174,
   "metadata": {
    "deletable": false,
    "editable": false,
    "nbgrader": {
     "cell_type": "code",
     "checksum": "b2193899d04a28436e3e3c369023f532",
     "grade": false,
     "grade_id": "q3_plot",
     "locked": true,
     "schema_version": 2,
     "solution": false
    }
   },
   "outputs": [
    {
     "name": "stderr",
     "output_type": "stream",
     "text": [
      "/home/sean/anaconda3/lib/python3.6/site-packages/matplotlib/axes/_axes.py:6462: UserWarning: The 'normed' kwarg is deprecated, and has been replaced by the 'density' kwarg.\n",
      "  warnings.warn(\"The 'normed' kwarg is deprecated, and has been \"\n"
     ]
    },
    {
     "data": {
      "text/plain": [
       "<matplotlib.axes._subplots.AxesSubplot at 0x7fceb1cb1128>"
      ]
     },
     "execution_count": 174,
     "metadata": {},
     "output_type": "execute_result"
    },
    {
     "data": {
      "image/png": "[encoded data removed]",
      "text/plain": [
       "<Figure size 432x288 with 1 Axes>"
      ]
     },
     "metadata": {},
     "output_type": "display_data"
    }
   ],
   "source": [
    "sns.distplot(boot_theta)"
   ]
  },
  {
   "cell_type": "markdown",
   "metadata": {
    "deletable": false,
    "editable": false,
    "nbgrader": {
     "cell_type": "markdown",
     "checksum": "7d38676f303a718aff089714d1458bef",
     "grade": false,
     "grade_id": "solved",
     "locked": true,
     "schema_version": 2,
     "solution": false
    }
   },
   "source": [
    "## Submission\n",
    "\n",
    "Congrats! You are finished with this assignment. Please don't forget to submit by 11:59 pm!"
   ]
  }
 ],
 "metadata": {
  "anaconda-cloud": {},
  "kernelspec": {
   "display_name": "Python 3",
   "language": "python",
   "name": "python3"
  },
  "language_info": {
   "codemirror_mode": {
    "name": "ipython",
    "version": 3
   },
   "file_extension": ".py",
   "mimetype": "text/x-python",
   "name": "python",
   "nbconvert_exporter": "python",
   "pygments_lexer": "ipython3",
   "version": "3.6.5"
  }
 },
 "nbformat": 4,
 "nbformat_minor": 2
}
