{
 "cells": [
  {
   "cell_type": "markdown",
   "metadata": {},
   "source": [
    "Before you turn this assignment in, make sure everything runs as expected. First, **restart the kernel** (in the menubar, select Kernel$\\rightarrow$Restart) and then **run all cells** (in the menubar, select Cell$\\rightarrow$Run All). Lastly, hit **Validate**.\n",
    "\n",
    "If you worked locally, and then uploaded your work to the hub, make sure to follow these steps:\n",
    "- open your uploaded notebook **on the hub**\n",
    "- hit the validate button right above this cell, from inside the notebook\n",
    "\n",
    "These  steps should solve any issue related to submitting the notebook on the hub.\n",
    "\n",
    "Make sure you fill in any place that says `YOUR CODE HERE` or \"YOUR ANSWER HERE\", as well as your name and collaborators below:"
   ]
  },
  {
   "cell_type": "code",
   "execution_count": 1,
   "metadata": {},
   "outputs": [],
   "source": [
    "NAME = \"\"\n",
    "COLLABORATORS = \"\""
   ]
  },
  {
   "cell_type": "markdown",
   "metadata": {},
   "source": [
    "---"
   ]
  },
  {
   "cell_type": "markdown",
   "metadata": {
    "deletable": false,
    "editable": false,
    "nbgrader": {
     "cell_type": "markdown",
     "checksum": "e9b95f0e3f952f2a69021b9e6257b0e0",
     "grade": false,
     "grade_id": "proj2",
     "locked": true,
     "schema_version": 2,
     "solution": false
    }
   },
   "source": [
    "# Project 2: Spam // Ham Prediction  \n",
    "\n",
    "## Due Date: 11:59pm Sunday, April 29\n",
    "\n",
    "In this project, you will use what you've learned in class to create a classifier that can distinguish spam (junk or commercial or bulk) emails from ham (non-spam) emails. In addition to providing some skeleton code to fill in, we will evaluate your work based on your model's accuracy and your written responses in this notebook.\n",
    "\n",
    "## Score breakdown\n",
    "\n",
    "Question | Points\n",
    "--- | ---\n",
    "Question 1 | 3\n",
    "Question 2 | 2\n",
    "Question 3a | 2\n",
    "Question 3b | 2\n",
    "Question 4 | 2\n",
    "Question 5 | 2\n",
    "Question 6 | 9\n",
    "Question 7 | 6\n",
    "Question 8 | 6\n",
    "Question 9 | 3\n",
    "Question 10 | 5\n",
    "Total | 42"
   ]
  },
  {
   "cell_type": "markdown",
   "metadata": {
    "deletable": false,
    "editable": false,
    "nbgrader": {
     "cell_type": "markdown",
     "checksum": "13d4b9efb57a66ecdde4f5c2e2bcc526",
     "grade": false,
     "grade_id": "p1",
     "locked": true,
     "schema_version": 2,
     "solution": false
    }
   },
   "source": [
    "# Part I - Initial Analysis"
   ]
  },
  {
   "cell_type": "code",
   "execution_count": 2,
   "metadata": {
    "deletable": false,
    "editable": false,
    "nbgrader": {
     "cell_type": "code",
     "checksum": "86334642abec944a9d6c8299e6ba5896",
     "grade": false,
     "grade_id": "imports",
     "locked": true,
     "schema_version": 2,
     "solution": false
    }
   },
   "outputs": [],
   "source": [
    "import numpy as np\n",
    "import pandas as pd\n",
    "\n",
    "import matplotlib.pyplot as plt\n",
    "%matplotlib inline\n",
    "\n",
    "import seaborn as sns\n",
    "sns.set(style = \"whitegrid\", \n",
    "        color_codes = True,\n",
    "        font_scale = 1.5)"
   ]
  },
  {
   "cell_type": "markdown",
   "metadata": {
    "deletable": false,
    "editable": false,
    "nbgrader": {
     "cell_type": "markdown",
     "checksum": "5d3fe1dd9f7bc02dfe273dc477925ec5",
     "grade": false,
     "grade_id": "loading",
     "locked": true,
     "schema_version": 2,
     "solution": false
    }
   },
   "source": [
    "### Loading in the Data\n",
    "\n",
    "The dataset consists of email messages and their labels (0 for ham, 1 for spam). Your labelled dataset contains 8348 labelled examples, and the evaluation set contains 1000 unlabelled examples.\n",
    "\n",
    "Run the following cells to load in the data into DataFrames.\n",
    "\n",
    "The `train` DataFrame contains labelled data that you will use to train your model. It contains three columns:\n",
    "\n",
    "1. `id`: An identifier for the training example.\n",
    "1. `subject`: The subject of the email\n",
    "1. `email`: The text of the email.\n",
    "1. `spam`: 1 if the email was spam, 0 if the email was ham (not spam).\n",
    "\n",
    "The `evaluation` DataFrame contains another set of 1000 unlabelled examples. You will predict labels for these examples and submit your predictions to Kaggle for evaluation."
   ]
  },
  {
   "cell_type": "code",
   "execution_count": 3,
   "metadata": {
    "deletable": false,
    "editable": false,
    "nbgrader": {
     "cell_type": "code",
     "checksum": "553fddfce24f4d89fd7ad907a7b22d28",
     "grade": false,
     "grade_id": "fetch-data",
     "locked": true,
     "schema_version": 2,
     "solution": false
    }
   },
   "outputs": [
    {
     "name": "stdout",
     "output_type": "stream",
     "text": [
      "Using version already downloaded: Fri Jul 27 18:14:26 2018\n",
      "MD5 hash of file: 0380c4cf72746622947b9ca5db9b8be8\n",
      "Using version already downloaded: Fri Jul 27 18:14:26 2018\n",
      "MD5 hash of file: a2e7abd8c7d9abf6e6fafc1d1f9ee6bf\n"
     ]
    },
    {
     "data": {
      "text/html": [
       "<div>\n",
       "<style scoped>\n",
       "    .dataframe tbody tr th:only-of-type {\n",
       "        vertical-align: middle;\n",
       "    }\n",
       "\n",
       "    .dataframe tbody tr th {\n",
       "        vertical-align: top;\n",
       "    }\n",
       "\n",
       "    .dataframe thead th {\n",
       "        text-align: right;\n",
       "    }\n",
       "</style>\n",
       "<table border=\"1\" class=\"dataframe\">\n",
       "  <thead>\n",
       "    <tr style=\"text-align: right;\">\n",
       "      <th></th>\n",
       "      <th>id</th>\n",
       "      <th>subject</th>\n",
       "      <th>email</th>\n",
       "      <th>spam</th>\n",
       "    </tr>\n",
       "  </thead>\n",
       "  <tbody>\n",
       "    <tr>\n",
       "      <th>0</th>\n",
       "      <td>0</td>\n",
       "      <td>Subject: A&amp;L Daily to be auctioned in bankrupt...</td>\n",
       "      <td>url: http://boingboing.net/#85534171\\n date: n...</td>\n",
       "      <td>0</td>\n",
       "    </tr>\n",
       "    <tr>\n",
       "      <th>1</th>\n",
       "      <td>1</td>\n",
       "      <td>Subject: Wired: \"Stronger ties between ISPs an...</td>\n",
       "      <td>url: http://scriptingnews.userland.com/backiss...</td>\n",
       "      <td>0</td>\n",
       "    </tr>\n",
       "    <tr>\n",
       "      <th>2</th>\n",
       "      <td>2</td>\n",
       "      <td>Subject: It's just too small                  ...</td>\n",
       "      <td>&lt;html&gt;\\n &lt;head&gt;\\n &lt;/head&gt;\\n &lt;body&gt;\\n &lt;font siz...</td>\n",
       "      <td>1</td>\n",
       "    </tr>\n",
       "    <tr>\n",
       "      <th>3</th>\n",
       "      <td>3</td>\n",
       "      <td>Subject: liberal defnitions\\n</td>\n",
       "      <td>depends on how much over spending vs. how much...</td>\n",
       "      <td>0</td>\n",
       "    </tr>\n",
       "    <tr>\n",
       "      <th>4</th>\n",
       "      <td>4</td>\n",
       "      <td>Subject: RE: [ILUG] Newbie seeks advice - Suse...</td>\n",
       "      <td>hehe sorry but if you hit caps lock twice the ...</td>\n",
       "      <td>0</td>\n",
       "    </tr>\n",
       "  </tbody>\n",
       "</table>\n",
       "</div>"
      ],
      "text/plain": [
       "   id                                            subject  \\\n",
       "0   0  Subject: A&L Daily to be auctioned in bankrupt...   \n",
       "1   1  Subject: Wired: \"Stronger ties between ISPs an...   \n",
       "2   2  Subject: It's just too small                  ...   \n",
       "3   3                      Subject: liberal defnitions\\n   \n",
       "4   4  Subject: RE: [ILUG] Newbie seeks advice - Suse...   \n",
       "\n",
       "                                               email  spam  \n",
       "0  url: http://boingboing.net/#85534171\\n date: n...     0  \n",
       "1  url: http://scriptingnews.userland.com/backiss...     0  \n",
       "2  <html>\\n <head>\\n </head>\\n <body>\\n <font siz...     1  \n",
       "3  depends on how much over spending vs. how much...     0  \n",
       "4  hehe sorry but if you hit caps lock twice the ...     0  "
      ]
     },
     "execution_count": 3,
     "metadata": {},
     "output_type": "execute_result"
    }
   ],
   "source": [
    "from utils import fetch_and_cache_gdrive\n",
    "fetch_and_cache_gdrive('1SCASpLZFKCp2zek-toR3xeKX3DZnBSyp', 'train.csv')\n",
    "fetch_and_cache_gdrive('1ZDFo9OTF96B5GP2Nzn8P8-AL7CTQXmC0', 'eval.csv')\n",
    "\n",
    "original_training_data = pd.read_csv('data/train.csv')\n",
    "evaluation = pd.read_csv('data/eval.csv')\n",
    "\n",
    "# Convert the emails to lower case as a first step to processing the text\n",
    "original_training_data['email'] = original_training_data['email'].str.lower()\n",
    "evaluation['email'] = evaluation['email'].str.lower()\n",
    "\n",
    "original_training_data.head()"
   ]
  },
  {
   "cell_type": "markdown",
   "metadata": {
    "deletable": false,
    "editable": false,
    "nbgrader": {
     "cell_type": "markdown",
     "checksum": "cd636166056f9007afa15fb14e1add52",
     "grade": false,
     "grade_id": "train-test",
     "locked": true,
     "schema_version": 2,
     "solution": false
    }
   },
   "source": [
    "## Train-Test Split\n",
    "\n",
    "The training data we downloaded is all the data we have available for both training models and **testing** the models that we train.  We therefore need to split the training data into separate training and test datsets.  You will need this **test data** to evaluate your model once you are finished training."
   ]
  },
  {
   "cell_type": "code",
   "execution_count": 25,
   "metadata": {
    "deletable": false,
    "editable": false,
    "nbgrader": {
     "cell_type": "code",
     "checksum": "2f91e8f002a63bc72069c5ac957ca5b4",
     "grade": false,
     "grade_id": "train-test-code",
     "locked": true,
     "schema_version": 2,
     "solution": false
    }
   },
   "outputs": [],
   "source": [
    "from sklearn.model_selection import train_test_split\n",
    "\n",
    "[train, test] = train_test_split(original_training_data, test_size=0.1, random_state=42)"
   ]
  },
  {
   "cell_type": "code",
   "execution_count": 26,
   "metadata": {},
   "outputs": [],
   "source": [
    "import ipdb"
   ]
  },
  {
   "cell_type": "markdown",
   "metadata": {
    "deletable": false,
    "editable": false,
    "nbgrader": {
     "cell_type": "markdown",
     "checksum": "e7b9da3ae60578672c9a42db28823c0a",
     "grade": false,
     "grade_id": "q1",
     "locked": true,
     "schema_version": 2,
     "solution": false
    }
   },
   "source": [
    "# Question 1\n",
    "\n",
    "In the cell below, print the text of the first ham and the first spam email in the training set. Then, discuss one thing you notice that is different between the two that might relate to the identification of spam."
   ]
  },
  {
   "cell_type": "code",
   "execution_count": 27,
   "metadata": {
    "deletable": false,
    "nbgrader": {
     "cell_type": "code",
     "checksum": "ff10a1144d9c5bff85dc2274907ce32c",
     "grade": false,
     "grade_id": "q1-answer",
     "locked": false,
     "schema_version": 2,
     "solution": true
    }
   },
   "outputs": [
    {
     "data": {
      "text/plain": [
       "('url: http://diveintomark.org/archives/2002/10/03.html#when_an_engineer_flaps_his_wings\\n date: 2002-10-03t01:31:51-05:00\\n \\n remember that saying from chaos theory about how when a butterfly flap its \\n wings, it can cause a hurricane a month later halfway around the world? as \\n several people have already noted, google has made some major changes in their \\n most recent update. the weblogging community was hit hard (for instance, i used \\n to be the #1 \"mark\"[1]; i am now #6). the changes appear to be the result of an \\n attempt to stop two phenomena: explicitly selling ads based on pagerank[2], and \\n google bombing[3]. \\n \\n specifically, google is now apparently cross-checking link text with the linked \\n site, and discounting or ignoring links whose text does not appear in the \\n linked site. this all but kills off google bombing. searching for \"go to hell\"\\n [4] no longer takes you to microsoft.com[5]; searching for \"talentless hack\"[6] \\n no longer finds ohmessylife.com[7], although it finds a lot of people who were \\n previously participating in the google bombing. no definitive word yet on \\n whether google is actively penalizing such sites. \\n \\n unfortunately, the algorithm tweaks necessary to stop these two techniques have \\n caused a wide range of collateral damage, apparently coming down hardest on \\n medium-to-large sites that had previously been doing everything right (as far \\n as page structure, link structure, accessibility, and general honest hard work \\n putting together a usable and useful site). the webmasterworld forums are alive \\n with complaints and speculation: \\n \\n - new update, pagerank death?[8] \\n - september 2002 google update discussion - part 1[9] \\n - let\\'s find out what happened - sept 2002 update - pt. 2[10] \\n \\n (side note: amongst the confusion, it has been suggested that google is no \\n longer indexing alt text in images. i can confirm that this is absolutely \\n false. searching diveintomark.org for \"gimli\"[11] finds my entry of july 29[12]\\n , where \"gimli\" is mentioned only in the alt text of an image.) \\n \\n regardless, google\\'s search results in general appear to be significantly \\n degraded in many key areas. the forums are full of people complaining that spam \\n sites, doorway pages, and obvious cloaking attempts, which google used to be so \\n good at filtering out, are now popping up in top spots with disturbing \\n frequency. nobody in the forums wants to talk about which keywords they\\'re \\n tracking, so i tried to find my own concrete example of crap search results. it \\n didn\\'t take long. \\n \\n - searching for reservation hotel[13] brings up an empty sub-page[14] of a \\n hotel reservation company in italy[15] as the first result. this seems \\n unhelpful, and unlikely to be relevant to the average us-based consumer (and \\n google absolutely knows i\\'m in the us based on my ip address). \\n - searching for news observer nc[16] (the news & observer is a raleigh, nc \\n newspaper) does find the news & observer[17], but it also finds an internet \\n betting spam page[18] at #7 and a non-existent page[19] at #9. \\n - searching for eminem[20] gives us two generic portal pages, a non-existent \\n site, and a site that redirects to a site that continuously redirects to itself \\n (i am not making this up). and this is just on the first page. good thing i \\n didn\\'t care that much about eminem to begin with, because google just isn\\'t \\n that helpful. \\n \\n many people in the webmasterworld forums are now suggesting that alltheweb.com\\n [21] has better search results overall. just as a single comparison, their \\n results for \"eminem\"[22] do appear to be much more relevant. is this the \\n beginning of the end of google\\'s reign?\\n \\n \\n \\n [1]  http://www.google.com/search?q=mark\\n [2]  http://www.pradnetwork.com/affiliate.htm\\n [3]  http://uber.nu/2001/04/06/\\n [4]  http://www.google.com/search?q=%22go+to+hell%22\\n [5]  http://www.microsoft.com/\\n [6]  http://www.google.com/search?q=talentless+hack\\n [7]  http://www.ohmessylife.com/\\n [8]  http://www.webmasterworld.com/forum3/5646.htm\\n [9]  http://www.webmasterworld.com/forum3/5688.htm\\n [10] http://www.webmasterworld.com/forum3/5723.htm\\n [11] http://www.google.com/search?q=gimli+site%3adiveintomark.org\\n [12] http://diveintomark.org/archives/2002/07/29.html\\n [13] http://www.google.com/search?q=reservation+hotel\\n [14] http://www.venere.it/home/italy.html\\n [15] http://www.venere.it/\\n [16] http://www.google.com/search?q=news+observer+nc\\n [17] http://www.news-observer.com/\\n [18] http://www.linkslsgolfworld.com/king-arthur-knight-of-the-round-table.htm\\n [19] http://www.nando.net/nt/nao/\\n [20] http://www.google.com/search?q=eminem\\n [21] http://www.alltheweb.com/\\n [22] http://www.alltheweb.com/search?query=eminem\\n \\n \\n',\n",
       " \"###################################\\n \\n   free adult lifetime membership\\n       limited time offer!!!\\n \\n ###################################\\n \\n your instant access password\\n login name:   zzzz@spamassassin.taint.org \\n password:     ackwgy4l\\n \\n 5 of the best adult sites on the internet for free!\\n \\n ---------------------------\\n \\n news 08/25/02\\n over 3.1 million members have signed up for free, last month 229,947\\n new members signed up for free with the limited time offer.\\n are you a free member yet???\\n \\n ---------------------------\\n \\n our membership faq\\n \\n q. why are you offering free access to 5 adult membership sites for free?\\n \\n a. we have advertisers that pay us for ad space so you don't have to\\n pay for a membership.\\n \\n q. is it true that your membership is free for life?\\n a. absolutely, you'll never have to pay a cent the advertisers do.\\n \\n q. do i have to sign up for all 5 free membership sites?\\n a. no, just one to get access to all of them.\\n \\n q. why do i have to give my credit card information?\\n a. it's for age verification purposes only and you will not be charged.\\n    if you don't believe us, just read their terms and conditions.\\n \\n q. how do i get started?\\n a. click on one of the links below to become a free member.\\n \\n ---------------------------\\n \\n # 5. > adults farm\\n http://80.71.66.8/farm/?aid=993751\\n girls and animals getting freaky....free lifetime membership!!\\n \\n # 4. > sexy celebes\\n http://80.71.66.8/celebst/?aid=993751\\n thousands of xxx celebes doing it...free lifetime membership!!\\n \\n # 3. > play house porn\\n http://80.71.66.8/play/?aid=993751\\n live feeds from 60 sites and web cams...free lifetime membership!!\\n \\n # 2. > lesbian lace\\n http://80.71.66.8/lesbian/?aid=993751\\n girls and girls getting freaky! ...free lifetime membership!!\\n \\n # 1. > teen sex fantasies\\n http://80.71.66.8/teen/?aid=993751\\n teen schoolgirls, live sex shows ...free lifetime membership!!\\n \\n --------------------------\\n \\n jennifer simpson, miami, fl\\n your free lifetime membership has entertained my boyfriend and i for\\n the last two years!  your adult sites are the best on the net!\\n \\n joe morgan manhattan, ny\\n your live sex shows and live sex cams are unbelievable. the best part\\n about your porn sites, is that they're absolutely free!\\n \\n --------------------------\\n \\n \\n removal instructions:\\n you have received this advertisement because you have opted in to\\n receive free adult internet offers and specials through our affiliated\\n websites. if you do not wish to receive further emails or have received\\n the email in error you may opt-out of our database here:\\n http://80.71.66.8/optout/index.html please allow 24 hours for removal.\\n \\n this e-mail is sent in compliance with the information exchange\\n promotion and privacy protection act. section 50 marked as\\n 'advertisement' with valid 'removal' instruction.\\n \\n tkuejsrfkmtpfwldpnauksv\\n \\n\")"
      ]
     },
     "execution_count": 27,
     "metadata": {},
     "output_type": "execute_result"
    }
   ],
   "source": [
    "# Print the text of the first ham and the first spam emails. Then, fill in your response in the q01 variable:\n",
    "first_ham = train[train[\"spam\"] == 0][\"email\"].iloc[1]\n",
    "first_spam = train[train[\"spam\"] == 1][\"email\"].iloc[1]\n",
    "first_ham, first_spam"
   ]
  },
  {
   "cell_type": "code",
   "execution_count": 28,
   "metadata": {
    "deletable": false,
    "editable": false,
    "nbgrader": {
     "cell_type": "code",
     "checksum": "115ba1cae1be0d4c7a5e9b91526fcb19",
     "grade": true,
     "grade_id": "q1-tests",
     "locked": true,
     "points": 1,
     "schema_version": 2,
     "solution": false
    }
   },
   "outputs": [],
   "source": [
    "# This is a cell with just a comment but don't delete me if you want to get credit."
   ]
  },
  {
   "cell_type": "markdown",
   "metadata": {
    "deletable": false,
    "nbgrader": {
     "cell_type": "markdown",
     "checksum": "cc6c8ddb4b03754a64382c725dafc5b0",
     "grade": true,
     "grade_id": "q1-written",
     "locked": false,
     "points": 2,
     "schema_version": 2,
     "solution": true
    },
    "tags": [
     "solution",
     "written",
     "q01"
    ]
   },
   "source": [
    "YOUR ANSWER HERE"
   ]
  },
  {
   "cell_type": "markdown",
   "metadata": {
    "deletable": false,
    "editable": false,
    "nbgrader": {
     "cell_type": "markdown",
     "checksum": "78b2a5de9976f0492e4325d88e131a47",
     "grade": false,
     "grade_id": "feat-eng",
     "locked": true,
     "schema_version": 2,
     "solution": false
    }
   },
   "source": [
    "# Basic Feature Engineering\n",
    "\n",
    "We would like to take the text of an email and predict whether the text is ham or spam. This is a *classification* problem, so we can use logistic regression to make a classifier. Recall that to train an logistic regression model we need a numeric feature matrix $\\Phi$ (pronounced phi as in wifi) and corresponding binary labels $Y$.  Unfortunately, our data are text, not numbers. To address this, we can create numeric features derived from the email text and use those features for logistic regression.\n",
    "\n",
    "Each row of $\\Phi$ is derived from one email example. Each column of $\\Phi$  is one feature. We'll guide you through creating a simple feature, and you'll create more interesting ones when you are trying to increase your accuracy."
   ]
  },
  {
   "cell_type": "markdown",
   "metadata": {
    "deletable": false,
    "editable": false,
    "nbgrader": {
     "cell_type": "markdown",
     "checksum": "4a6a1160d34bedff1e1a0859a58bf70e",
     "grade": false,
     "grade_id": "q2",
     "locked": true,
     "schema_version": 2,
     "solution": false
    }
   },
   "source": [
    "# Question 2\n",
    "\n",
    "Create a function called `words_in_texts` that takes in a list of `words` and a pandas Series of email `texts`. It should output a 2-dimensional NumPy array containing one row for each email text. The row should contain either a 0 or a 1 for each word in the list: 0 if the word doesn't appear in the text and 1 if the word does. For example:\n",
    "\n",
    "```python\n",
    ">>> words_in_texts(['hello', 'bye', 'world'], \n",
    "                   pd.Series(['hello', 'hello world hello']))\n",
    "\n",
    "array([[1, 0, 0],\n",
    "       [1, 0, 1]])\n",
    "```"
   ]
  },
  {
   "cell_type": "code",
   "execution_count": 29,
   "metadata": {
    "deletable": false,
    "nbgrader": {
     "cell_type": "code",
     "checksum": "296207c542908dd11c481c4f56585743",
     "grade": false,
     "grade_id": "q2-answer",
     "locked": false,
     "schema_version": 2,
     "solution": true
    },
    "tags": [
     "student"
    ]
   },
   "outputs": [],
   "source": [
    "def words_in_texts(words, texts):\n",
    "    '''\n",
    "    Args:\n",
    "        words (list-like): words to find\n",
    "        texts (Series): strings to search in\n",
    "    \n",
    "    Returns:\n",
    "        NumPy array of 0s and 1s with shape (n, p) where n is the\n",
    "        number of texts and p is the number of words.\n",
    "    '''\n",
    "    indicator_array = []\n",
    "    for i in texts:\n",
    "        single_indicator = []\n",
    "        for j in words:\n",
    "            if j in i:\n",
    "                single_indicator.append(1)\n",
    "            else:\n",
    "                single_indicator.append(0)\n",
    "        indicator_array.append(single_indicator)\n",
    "    indicator_array = np.array(indicator_array)\n",
    "    return indicator_array"
   ]
  },
  {
   "cell_type": "code",
   "execution_count": 30,
   "metadata": {},
   "outputs": [
    {
     "data": {
      "text/plain": [
       "array([[1, 0, 0],\n",
       "       [1, 0, 1]])"
      ]
     },
     "execution_count": 30,
     "metadata": {},
     "output_type": "execute_result"
    }
   ],
   "source": [
    "words_in_texts(['hello', 'bye', 'world'], \n",
    "                   pd.Series(['hello', 'hello world hello']))"
   ]
  },
  {
   "cell_type": "code",
   "execution_count": 31,
   "metadata": {
    "deletable": false,
    "editable": false,
    "nbgrader": {
     "cell_type": "code",
     "checksum": "6b8eb808ad9b99843c8cd3ad5d20b736",
     "grade": true,
     "grade_id": "q2-tests",
     "locked": true,
     "points": 2,
     "schema_version": 2,
     "solution": false
    },
    "tags": [
     "solution"
    ]
   },
   "outputs": [],
   "source": [
    "# If this doesn't error, your function outputs the correct output for this example\n",
    "assert np.allclose(words_in_texts(['hello', 'bye', 'world'], \n",
    "                                  pd.Series(['hello', 'hello world hello'])),\n",
    "                   np.array([[1, 0, 0], \n",
    "                             [1, 0, 1]]))"
   ]
  },
  {
   "cell_type": "markdown",
   "metadata": {
    "deletable": false,
    "editable": false,
    "nbgrader": {
     "cell_type": "markdown",
     "checksum": "2bacca07aa9b367ec84957d0beb41886",
     "grade": false,
     "grade_id": "eda",
     "locked": true,
     "schema_version": 2,
     "solution": false
    }
   },
   "source": [
    "# Basic EDA\n",
    "\n",
    "Now we need to identify some features that allow us to tell spam and ham emails apart. One idea is to compare the distribution of a single feature in spam emails to the distribution of the same feature in ham emails. If the feature is itself a binary indicator, such as whether a certain word occurs in the text, this amounts to comparing the proportion of spam emails with the word to the proportion of ham emails with the word.\n"
   ]
  },
  {
   "cell_type": "markdown",
   "metadata": {
    "deletable": false,
    "editable": false,
    "nbgrader": {
     "cell_type": "markdown",
     "checksum": "b13eddc109fc8ca94589381ffa188ae3",
     "grade": false,
     "grade_id": "q3a",
     "locked": true,
     "schema_version": 2,
     "solution": false
    }
   },
   "source": [
    "# Question 3a\n",
    "\n",
    "Create a bar chart comparing the proportion of spam and ham emails containing certain words. It should look like the following plot (which was created using `sns.barplot`), but you should choose your own words as candidate features.\n",
    "\n",
    "![training conditional proportions](training_conditional_proportions.png \"Class Conditional Proportions\")\n"
   ]
  },
  {
   "cell_type": "code",
   "execution_count": 34,
   "metadata": {
    "deletable": false,
    "nbgrader": {
     "cell_type": "code",
     "checksum": "c64ceb5b31e1282f8c118e345108f1f2",
     "grade": true,
     "grade_id": "q3a-answer",
     "locked": false,
     "points": 2,
     "schema_version": 2,
     "solution": true
    }
   },
   "outputs": [
    {
     "data": {
      "text/plain": [
       "<matplotlib.axes._subplots.AxesSubplot at 0x7ffaf55cdcc0>"
      ]
     },
     "execution_count": 34,
     "metadata": {},
     "output_type": "execute_result"
    },
    {
     "data": {
      "image/png": "[encoded data removed]",
      "text/plain": [
       "<Figure size 432x288 with 1 Axes>"
      ]
     },
     "metadata": {},
     "output_type": "display_data"
    }
   ],
   "source": [
    "data = pd.read_csv('data/train.csv')\n",
    "category = [\"body\", \"business\", \"html\", \"money\", \"offer\", \"please\"]\n",
    "temp = words_in_texts([\"body\", \"business\", \"html\", \"money\", \"offer\", \"please\"], data[data.spam == 0][\"email\"])\n",
    "result1 = temp.sum(axis = 0) / len(temp)\n",
    "temp = words_in_texts([\"body\", \"business\", \"html\", \"money\", \"offer\", \"please\"], data[data.spam == 1][\"email\"])\n",
    "result2 = temp.sum(axis = 0) / len(temp)\n",
    "result = np.concatenate([result1, result2])\n",
    "prop = pd.concat([pd.Series(result), pd.Series(np.concatenate([category, category])),pd.Series([\"ham\"] * len(category) + [\"spam\"] * len(category))], axis=1)\n",
    "prop.columns = [\"prop\", \"words\",\"spam\"]\n",
    "sns.barplot(x=\"words\", y=\"prop\", hue=\"spam\", data=prop)"
   ]
  },
  {
   "cell_type": "markdown",
   "metadata": {
    "deletable": false,
    "editable": false,
    "nbgrader": {
     "cell_type": "markdown",
     "checksum": "cacc657b9f84fe89c425797255849f69",
     "grade": false,
     "grade_id": "q3b",
     "locked": true,
     "schema_version": 2,
     "solution": false
    }
   },
   "source": [
    "# Question 3b\n",
    "\n",
    "When the feature is binary, it makes sense (as in the previous question) to compare the proportion of 1s in the two classes of email. Otherwise, if the feature can take on many values, it makes sense to compare the distribution under spam to the distribution under ham. Create a *class conditional density plot* like the one below (which was created using `sns.distplot`), comparing the distribution of a feature among all spam emails to the distribution of the same feature among all ham emails. **You may use the Fraction of Uppercase Letters or create your own feature.**\n",
    "\n",
    "![training conditional densities](training_conditional_densities2.png \"Class Conditional Densities\")"
   ]
  },
  {
   "cell_type": "code",
   "execution_count": 35,
   "metadata": {
    "deletable": false,
    "nbgrader": {
     "cell_type": "code",
     "checksum": "60246643e0caaa562f6a6ac6814ae0c0",
     "grade": true,
     "grade_id": "q3b-answer",
     "locked": false,
     "points": 2,
     "schema_version": 2,
     "solution": true
    }
   },
   "outputs": [
    {
     "data": {
      "text/plain": [
       "<matplotlib.legend.Legend at 0x7ffaf5439cc0>"
      ]
     },
     "execution_count": 35,
     "metadata": {},
     "output_type": "execute_result"
    },
    {
     "data": {
      "image/png": "[encoded data removed]",
      "text/plain": [
       "<Figure size 432x288 with 1 Axes>"
      ]
     },
     "metadata": {},
     "output_type": "display_data"
    }
   ],
   "source": [
    "data = pd.read_csv('data/train.csv')\n",
    "data[\"len\"] = data[\"email\"].str.len()\n",
    "data[\"upper\"] = data[\"email\"].str.findall(\"[A-Z]\").str.len()\n",
    "data[\"prop\"] = data[\"upper\"] / data[\"len\"]\n",
    "ham = data[data.spam == 0]\n",
    "spam = data[data.spam == 1]\n",
    "sns.distplot(ham[\"prop\"],hist=False, label=\"ham\")\n",
    "sns.distplot(spam[\"prop\"], hist= False, label=\"spam\")\n",
    "plt.legend()"
   ]
  },
  {
   "cell_type": "markdown",
   "metadata": {
    "deletable": false,
    "editable": false,
    "nbgrader": {
     "cell_type": "markdown",
     "checksum": "0d13d7ef0cdd07a7ad8d0a49cdddba9b",
     "grade": false,
     "grade_id": "classification",
     "locked": true,
     "schema_version": 2,
     "solution": false
    }
   },
   "source": [
    "# Basic Classification\n",
    "\n",
    "Notice that the output of `words_in_texts(words, train['email'])` is a numeric matrix containing features for each email. This means we can use it directly to train a classifier!"
   ]
  },
  {
   "cell_type": "markdown",
   "metadata": {
    "deletable": false,
    "editable": false,
    "nbgrader": {
     "cell_type": "markdown",
     "checksum": "a704638a2aa116d175cec5d54011390e",
     "grade": false,
     "grade_id": "q4",
     "locked": true,
     "schema_version": 2,
     "solution": false
    }
   },
   "source": [
    "# Question 4\n",
    "\n",
    "We've given you 5 words that might be useful as features to distinguish spam/ham emails. Use these words as well as the `train` DataFrame to create two NumPy arrays: `Phi_train` and `Y_train`.\n",
    "\n",
    "`Phi_train` should be a matrix of 0s and 1s created by using your `words_in_texts` function on all the emails in the training set.\n",
    "\n",
    "`Y_train` should be a vector of the correct labels for each email in the training set."
   ]
  },
  {
   "cell_type": "code",
   "execution_count": 36,
   "metadata": {
    "deletable": false,
    "nbgrader": {
     "cell_type": "code",
     "checksum": "8b93048015e15c7af26cd4a47e611109",
     "grade": false,
     "grade_id": "q4-answer",
     "locked": false,
     "schema_version": 2,
     "solution": true
    },
    "tags": [
     "student"
    ]
   },
   "outputs": [
    {
     "data": {
      "text/plain": [
       "(array([[0, 0, 0, 0, 0],\n",
       "        [0, 0, 0, 0, 0],\n",
       "        [0, 0, 0, 0, 0],\n",
       "        [0, 0, 0, 0, 0],\n",
       "        [0, 0, 0, 1, 0]]), 7657    0\n",
       " 6911    0\n",
       " 6074    0\n",
       " 4376    0\n",
       " 5766    0\n",
       " Name: spam, dtype: int64)"
      ]
     },
     "execution_count": 36,
     "metadata": {},
     "output_type": "execute_result"
    }
   ],
   "source": [
    "some_words = ['drug', 'bank', 'prescription', 'memo', 'private']\n",
    "\n",
    "Phi_train = words_in_texts(some_words, train[\"email\"])\n",
    "Y_train = train[\"spam\"]\n",
    "\n",
    "Phi_train[:5], Y_train[:5]"
   ]
  },
  {
   "cell_type": "code",
   "execution_count": 37,
   "metadata": {
    "deletable": false,
    "editable": false,
    "nbgrader": {
     "cell_type": "code",
     "checksum": "e379ae3ce1967f869f7d7e731ae0f75a",
     "grade": true,
     "grade_id": "q4-tests",
     "locked": true,
     "points": 2,
     "schema_version": 2,
     "solution": false
    }
   },
   "outputs": [],
   "source": [
    "assert np.all(np.unique(Phi_train) == np.array([0, 1]))\n",
    "assert np.all(np.unique(Y_train) == np.array([0, 1]))\n",
    "assert Phi_train.shape[0] == Y_train.shape[0]\n",
    "assert Phi_train.shape[1] == len(some_words)"
   ]
  },
  {
   "cell_type": "markdown",
   "metadata": {
    "deletable": false,
    "editable": false,
    "nbgrader": {
     "cell_type": "markdown",
     "checksum": "2d67277515ec86e13df560be7fb273f4",
     "grade": false,
     "grade_id": "q5",
     "locked": true,
     "schema_version": 2,
     "solution": false
    }
   },
   "source": [
    "# Question 5\n",
    "\n",
    "Now we have matrices we can give to scikit-learn! Using the [`LogisticRegression`](http://scikit-learn.org/stable/modules/generated/sklearn.linear_model.LogisticRegression.html) classifier, train a logistic regression model using `Phi_train` and `Y_train`. Then, output the accuracy of the model (on the training data) in the cell below. You should get an accuracy of around 0.75."
   ]
  },
  {
   "cell_type": "code",
   "execution_count": 43,
   "metadata": {
    "deletable": false,
    "nbgrader": {
     "cell_type": "code",
     "checksum": "a45837a9efac1b9ab3824f860e9ddc1a",
     "grade": false,
     "grade_id": "q5-answer",
     "locked": false,
     "schema_version": 2,
     "solution": true
    },
    "tags": [
     "student"
    ]
   },
   "outputs": [],
   "source": [
    "import sklearn.linear_model\n",
    "lr = sklearn.linear_model.LogisticRegression(fit_intercept=True)\n",
    "lr.fit(Phi_train, Y_train)\n",
    "Y_predict = lr.predict(Phi_train)\n",
    "training_accuracy = (Y_predict == Y_train).sum() / len(Y_train)"
   ]
  },
  {
   "cell_type": "code",
   "execution_count": 44,
   "metadata": {
    "deletable": false,
    "editable": false,
    "nbgrader": {
     "cell_type": "code",
     "checksum": "1133eaddd64442a3139615c57864c60e",
     "grade": true,
     "grade_id": "q5-tests",
     "locked": true,
     "points": 2,
     "schema_version": 2,
     "solution": false
    },
    "tags": [
     "solution"
    ]
   },
   "outputs": [],
   "source": [
    "assert training_accuracy > 0.72"
   ]
  },
  {
   "cell_type": "markdown",
   "metadata": {
    "deletable": false,
    "editable": false,
    "nbgrader": {
     "cell_type": "markdown",
     "checksum": "2ccbf7ec8e32a2963fac3ca5624407d0",
     "grade": false,
     "grade_id": "q6",
     "locked": true,
     "schema_version": 2,
     "solution": false
    }
   },
   "source": [
    "# Question 6\n",
    "\n",
    "That doesn't seem too shabby! But the classifier you made above isn't as good as this might lead us to believe. First, we are evaluating on the training set, which may lead to a misleading accuracy measure, especially if we used the training set to identify discriminative features. In future parts of this analysis, it will be safer to hold out some of our data for model validation and comparison.\n",
    "\n",
    "Presumably, our classifier will be used for **filtering**, i.e. preventing messages labelled `spam` from reaching someone's inbox. Since we are trying  There are two kinds of errors we can make:\n",
    "- False positive (FP): a ham email gets flagged as spam and filtered out of the inbox.\n",
    "- False negative (FN): a spam email gets mislabelled as ham and ends up in the inbox.\n",
    "\n",
    "These definitions depend both on the true labels and the predicted labels. False positives and false negatives may be of differing importance, leading us to consider more ways of evaluating a classifier, in addition to overall accuracy:\n",
    "\n",
    "**Precision** measures the proportion $\\frac{\\text{TP}}{\\text{TP} + \\text{FP}}$ of emails flagged as spam that are actually spam.\n",
    "\n",
    "**Recall** measures the proportion $\\frac{\\text{TP}}{\\text{TP} + \\text{FN}}$ of spam emails that were correctly flagged as spam. \n",
    "\n",
    "**False-alarm rate** measures the proportion $\\frac{\\text{FP}}{\\text{FP} + \\text{TN}}$ of ham emails that were incorrectly flagged as spam. \n",
    "\n",
    "The following image might help:\n",
    "\n",
    "<img src=\"https://upload.wikimedia.org/wikipedia/commons/thumb/2/26/Precisionrecall.svg/700px-Precisionrecall.svg.png\" width=\"500px\">\n",
    "\n",
    "Note that a true positive (TP) is a spam email that is classified as spam, and a true negative (TN) is a ham email that is classified as ham. Answer the following questions in the cells below:\n",
    "\n",
    "- (a) Suppose we have a classifier that just predicts 0 (ham) for every email. How many false positives are there? How many false negatives are there? Provide specific numbers using the training data from Question 4.\n",
    "- (b) Suppose we have a classifier that just predicts 0 (ham) for every email. What is its accuracy on the training set? What is its recall on the training set?\n",
    "- (c) What are the precision, recall, and false-alarm rate of the logistic regression classifier in Question 5? Are there more false positives or false negatives? \n",
    "- (d) Our logistic regression classifier got 75.6% prediction accuracy (number of correct predictions / total). How does this compare with predicting 0 for every email?\n",
    "- (e) Given the word features we gave you above, name one reason this classifier is performing poorly.\n",
    "- (f) Which of these two classifiers would you prefer for a spam filter and why? (N.B. there is no \"right answer\" here but be thoughtful in your reasoning)."
   ]
  },
  {
   "cell_type": "code",
   "execution_count": 48,
   "metadata": {
    "deletable": false,
    "nbgrader": {
     "cell_type": "code",
     "checksum": "fb6be2a577f65651b583021d052505f3",
     "grade": false,
     "grade_id": "q6a-answer",
     "locked": false,
     "schema_version": 2,
     "solution": true
    }
   },
   "outputs": [
    {
     "data": {
      "text/plain": [
       "(0, 1918)"
      ]
     },
     "execution_count": 48,
     "metadata": {},
     "output_type": "execute_result"
    }
   ],
   "source": [
    "# provide number of FP and FN, respectively,\n",
    "# for a classifier that always predicts 0 (never predicts positive...)\n",
    "zero_predictor_fp = 0\n",
    "zero_predictor_fn = len(train[train.spam == 1])\n",
    "zero_predictor_fp, zero_predictor_fn"
   ]
  },
  {
   "cell_type": "code",
   "execution_count": 49,
   "metadata": {
    "deletable": false,
    "editable": false,
    "nbgrader": {
     "cell_type": "code",
     "checksum": "4170e6f271d97eab6ab77523d0c9689c",
     "grade": true,
     "grade_id": "q6a-tests",
     "locked": true,
     "points": 2,
     "schema_version": 2,
     "solution": false
    }
   },
   "outputs": [],
   "source": [
    "# This is a cell with just a comment but don't delete me if you want to get credit."
   ]
  },
  {
   "cell_type": "code",
   "execution_count": 50,
   "metadata": {
    "deletable": false,
    "nbgrader": {
     "cell_type": "code",
     "checksum": "551cfb296a0d066ef7f88a4450cd56f2",
     "grade": false,
     "grade_id": "q6b-answer",
     "locked": false,
     "schema_version": 2,
     "solution": true
    }
   },
   "outputs": [],
   "source": [
    "# provide training accuracy & recall, respectively,\n",
    "# for a classifier that always predicts 0\n",
    "zero_predictor_acc = 0\n",
    "zero_predictor_recal = 0\n"
   ]
  },
  {
   "cell_type": "code",
   "execution_count": 51,
   "metadata": {
    "deletable": false,
    "editable": false,
    "nbgrader": {
     "cell_type": "code",
     "checksum": "2da0a2fd20e7773dc36190301cee53f5",
     "grade": true,
     "grade_id": "q6b-tests",
     "locked": true,
     "points": 2,
     "schema_version": 2,
     "solution": false
    }
   },
   "outputs": [],
   "source": [
    "# This is a cell with just a comment but don't delete me if you want to get credit."
   ]
  },
  {
   "cell_type": "code",
   "execution_count": 52,
   "metadata": {
    "deletable": false,
    "nbgrader": {
     "cell_type": "code",
     "checksum": "d3775f0397ec6a892683277ff9bb041d",
     "grade": false,
     "grade_id": "q6c-answer",
     "locked": false,
     "schema_version": 2,
     "solution": true
    }
   },
   "outputs": [
    {
     "data": {
      "text/plain": [
       "(0.6422287390029325, 0.11418143899895725, 0.021805183199285077)"
      ]
     },
     "execution_count": 52,
     "metadata": {},
     "output_type": "execute_result"
    }
   ],
   "source": [
    "# provide training accuracy & recall, respectively,\n",
    "# for logistic regression classifier from question 5\n",
    "\n",
    "logistic_predictor_precision = 219 / 341\n",
    "logistic_predictor_recall = 219 / (219 + 1699)\n",
    "logistic_predictor_far = 122 / (122 + 5473)\n",
    "logistic_predictor_precision, logistic_predictor_recall, logistic_predictor_far"
   ]
  },
  {
   "cell_type": "code",
   "execution_count": 53,
   "metadata": {
    "deletable": false,
    "editable": false,
    "nbgrader": {
     "cell_type": "code",
     "checksum": "1d5da8b3485c912e0e04d5a4cb125678",
     "grade": true,
     "grade_id": "q6c-tests",
     "locked": true,
     "points": 2,
     "schema_version": 2,
     "solution": false
    }
   },
   "outputs": [],
   "source": [
    "# This is a cell with just a comment but don't delete me if you want to get credit."
   ]
  },
  {
   "cell_type": "markdown",
   "metadata": {
    "deletable": false,
    "nbgrader": {
     "cell_type": "markdown",
     "checksum": "b0c889c63a8057b74c02d98a0b25e392",
     "grade": true,
     "grade_id": "q6-written",
     "locked": false,
     "points": 3,
     "schema_version": 2,
     "solution": true
    },
    "tags": [
     "solution",
     "written",
     "q06"
    ]
   },
   "source": [
    "YOUR ANSWER HERE"
   ]
  },
  {
   "cell_type": "code",
   "execution_count": 55,
   "metadata": {},
   "outputs": [
    {
     "data": {
      "text/html": [
       "<div>\n",
       "<style scoped>\n",
       "    .dataframe tbody tr th:only-of-type {\n",
       "        vertical-align: middle;\n",
       "    }\n",
       "\n",
       "    .dataframe tbody tr th {\n",
       "        vertical-align: top;\n",
       "    }\n",
       "\n",
       "    .dataframe thead th {\n",
       "        text-align: right;\n",
       "    }\n",
       "</style>\n",
       "<table border=\"1\" class=\"dataframe\">\n",
       "  <thead>\n",
       "    <tr style=\"text-align: right;\">\n",
       "      <th></th>\n",
       "      <th>id</th>\n",
       "      <th>subject</th>\n",
       "      <th>email</th>\n",
       "    </tr>\n",
       "  </thead>\n",
       "  <tbody>\n",
       "    <tr>\n",
       "      <th>0</th>\n",
       "      <td>0</td>\n",
       "      <td>Subject: CERT Advisory CA-2002-21 Vulnerabilit...</td>\n",
       "      <td>\\n \\n -----begin pgp signed message-----\\n \\n ...</td>\n",
       "    </tr>\n",
       "    <tr>\n",
       "      <th>1</th>\n",
       "      <td>1</td>\n",
       "      <td>Subject: ADV: Affordable Life Insurance ddbfk\\n</td>\n",
       "      <td>low-cost term-life insurance!\\n save up to 70%...</td>\n",
       "    </tr>\n",
       "    <tr>\n",
       "      <th>2</th>\n",
       "      <td>2</td>\n",
       "      <td>Subject: CAREER OPPORTUNITY.  WORK FROM HOME\\n</td>\n",
       "      <td>------=_nextpart_000_00a0_03e30a1a.b1804b54\\n ...</td>\n",
       "    </tr>\n",
       "    <tr>\n",
       "      <th>3</th>\n",
       "      <td>3</td>\n",
       "      <td>Subject: Marriage makes both sexes happy\\n</td>\n",
       "      <td>url: http://www.newsisfree.com/click/-3,848315...</td>\n",
       "    </tr>\n",
       "    <tr>\n",
       "      <th>4</th>\n",
       "      <td>4</td>\n",
       "      <td>Subject: Re: [SAtalk] SA very slow (hangs?) on...</td>\n",
       "      <td>on thursday 29 august 2002 16:39 cet mike burg...</td>\n",
       "    </tr>\n",
       "  </tbody>\n",
       "</table>\n",
       "</div>"
      ],
      "text/plain": [
       "   id                                            subject  \\\n",
       "0   0  Subject: CERT Advisory CA-2002-21 Vulnerabilit...   \n",
       "1   1    Subject: ADV: Affordable Life Insurance ddbfk\\n   \n",
       "2   2     Subject: CAREER OPPORTUNITY.  WORK FROM HOME\\n   \n",
       "3   3         Subject: Marriage makes both sexes happy\\n   \n",
       "4   4  Subject: Re: [SAtalk] SA very slow (hangs?) on...   \n",
       "\n",
       "                                               email  \n",
       "0  \\n \\n -----begin pgp signed message-----\\n \\n ...  \n",
       "1  low-cost term-life insurance!\\n save up to 70%...  \n",
       "2  ------=_nextpart_000_00a0_03e30a1a.b1804b54\\n ...  \n",
       "3  url: http://www.newsisfree.com/click/-3,848315...  \n",
       "4  on thursday 29 august 2002 16:39 cet mike burg...  "
      ]
     },
     "execution_count": 55,
     "metadata": {},
     "output_type": "execute_result"
    }
   ],
   "source": [
    "evaluation.head()"
   ]
  },
  {
   "cell_type": "markdown",
   "metadata": {
    "deletable": false,
    "editable": false,
    "nbgrader": {
     "cell_type": "markdown",
     "checksum": "420d757256a0c1fd96228b7f622682bb",
     "grade": false,
     "grade_id": "p2",
     "locked": true,
     "schema_version": 2,
     "solution": false
    }
   },
   "source": [
    "# Part II - Moving Forward\n",
    "\n",
    "With this in mind, it is now your task to make the spam filter more accurate. In order to get full credit on the accuracy part of this assignment, you must get at least **88%** accuracy on the evaluation set. To see your accuracy on the evaluation set, you will use your classifier to predict every email in the `evaluation` DataFrame and upload your predictions to Kaggle.\n",
    "\n",
    "To prevent you from fitting to the evaluation set, you may only upload predictions to Kaggle twice per day. This means you should start early and rely on your **test data** to estimate your Kaggle scores.  \n",
    "\n",
    "Here are some ideas for improving your model:\n",
    "\n",
    "1. Finding better features based on the email text. Some example features are:\n",
    "    1. Number of characters in the subject / body\n",
    "    1. Number of words in the subject / body\n",
    "    1. Use of punctuation (e.g., how many '!' were there?)\n",
    "    1. Number / percentage of capital letters \n",
    "    1. Whether the email is a reply to an earlier email or a forwarded email\n",
    "1. Finding better words to use as features. Which words are the best at distinguishing emails? This requires digging into the email text itself. \n",
    "1. Better data processing. For example, many emails contain HTML as well as text. You can consider extracting out the text from the HTML to help you find better words. Or, you can match HTML tags themselves, or even some combination of the two.\n",
    "1. Model selection. You can adjust parameters of your model (e.g. the regularization parameter) to achieve higher accuracy. Recall that you should use cross-validation to do feature and model selection properly! Otherwise, you will likely overfit to your training data.\n",
    "\n",
    "You may use whatever method you prefer in order to create features. However, **you are only allowed to train logistic regression models and their regularized forms**. This means no random forest, k-nearest-neighbors, neural nets, etc.\n",
    "\n",
    "We will not give you a code skeleton to do this, so feel free to create as many cells as you need in order to tackle this task. However, answering questions 7, 8, and 9 should help guide you.\n",
    "\n",
    "---\n",
    "\n",
    "**Note:** *You should use the **test data** to evaluate your model and get a better sense of how it will perform on the Kaggle evaluation.*\n",
    "\n",
    "---"
   ]
  },
  {
   "cell_type": "markdown",
   "metadata": {
    "deletable": false,
    "editable": false,
    "nbgrader": {
     "cell_type": "markdown",
     "checksum": "55580b1682a53b3d3bab8e3d6b928973",
     "grade": false,
     "grade_id": "q7",
     "locked": true,
     "schema_version": 2,
     "solution": false
    }
   },
   "source": [
    "# Question 7 (Feature/Model Selection Process)\n",
    "\n",
    "In this following cell, describe the process of improving your model. You should use at least 2-3 sentences each to address the follow questions:\n",
    "\n",
    "1. How did you find better features for your model?\n",
    "2. What did you try that worked / didn't work?\n",
    "3. What was surprising in your search for good features?"
   ]
  },
  {
   "cell_type": "markdown",
   "metadata": {
    "deletable": false,
    "nbgrader": {
     "cell_type": "markdown",
     "checksum": "939e6a5a273ced9801a7c510aac0cde4",
     "grade": true,
     "grade_id": "q7-written",
     "locked": false,
     "points": 6,
     "schema_version": 2,
     "solution": true
    },
    "tags": [
     "student",
     "written",
     "q_feature"
    ]
   },
   "source": []
  },
  {
   "cell_type": "markdown",
   "metadata": {
    "deletable": false,
    "editable": false,
    "nbgrader": {
     "cell_type": "markdown",
     "checksum": "60b1230b3da1ce9160009cccef25dd8d",
     "grade": false,
     "grade_id": "q8",
     "locked": true,
     "schema_version": 2,
     "solution": false
    }
   },
   "source": [
    "# Question 8 (EDA)\n",
    "\n",
    "In the two cells below, show a visualization that you used to select features for your model. Include both\n",
    "\n",
    "1. A plot showing something meaningful about the data that helped you during feature / model selection.\n",
    "2. 2-3 sentences describing what you plotted and what its implications are for your features.\n",
    "\n",
    "Feel to create as many plots as you want in your process of feature selection, but select one for the cells below.\n",
    "\n",
    "**You should not show us a visualization just like in question 3.** Specifically, don't show us a bar chart of proportions, or a one-dimensional class conditional density plot. Any other plot is acceptable, as long as it comes with thoughtful commentary. Here are some ideas:\n",
    "\n",
    "1. Consider the correlation between multiple features (look up correlation plots and `sns.heatmap`). \n",
    "1. Try to show redundancy in a group of features (e.g. `body` and `html` might co-occur relatively frequently, or you might be able to design a feature that captures all html tags and compare it to these). \n",
    "1. Use a word-cloud or another visualization tool to characterize the most common spam words.\n",
    "1. Visually depict whether spam emails tend to be wordier (in some sense) than ham emails."
   ]
  },
  {
   "cell_type": "code",
   "execution_count": 398,
   "metadata": {},
   "outputs": [
    {
     "name": "stderr",
     "output_type": "stream",
     "text": [
      "/home/sean/anaconda3/lib/python3.6/site-packages/ipykernel_launcher.py:65: SettingWithCopyWarning: \n",
      "A value is trying to be set on a copy of a slice from a DataFrame.\n",
      "Try using .loc[row_indexer,col_indexer] = value instead\n",
      "\n",
      "See the caveats in the documentation: http://pandas.pydata.org/pandas-docs/stable/indexing.html#indexing-view-versus-copy\n",
      "/home/sean/anaconda3/lib/python3.6/site-packages/ipykernel_launcher.py:66: SettingWithCopyWarning: \n",
      "A value is trying to be set on a copy of a slice from a DataFrame.\n",
      "Try using .loc[row_indexer,col_indexer] = value instead\n",
      "\n",
      "See the caveats in the documentation: http://pandas.pydata.org/pandas-docs/stable/indexing.html#indexing-view-versus-copy\n"
     ]
    },
    {
     "name": "stdout",
     "output_type": "stream",
     "text": [
      "0.862371888726208\n",
      "0.8641022228137895\n",
      "0.8641022228137895\n",
      "0.8743511247171569\n",
      "0.8802076400905098\n",
      "0.8846000266205244\n",
      "0.8892586183947824\n",
      "0.8912551577266072\n",
      "0.8912551577266072\n",
      "0.8912551577266072\n",
      "0.8912551577266072\n",
      "0.8912551577266072\n",
      "0.8912551577266072\n",
      "0.8912551577266072\n",
      "0.8912551577266072\n",
      "0.8912551577266072\n"
     ]
    },
    {
     "data": {
      "text/plain": [
       "(0.8912551577266072, 0.12000000000000001)"
      ]
     },
     "execution_count": 398,
     "metadata": {},
     "output_type": "execute_result"
    }
   ],
   "source": [
    "\n",
    "def words_in_texts(words, texts):\n",
    "    '''\n",
    "    Args:\n",
    "        words (list-like): words to find\n",
    "        texts (Series): strings to search in\n",
    "    \n",
    "    Returns:\n",
    "        NumPy array of 0s and 1s with shape (n, p) where n is the\n",
    "        number of texts and p is the number of words.\n",
    "    '''\n",
    "    indicator_array = []\n",
    "    for i in texts:\n",
    "        single_indicator = []\n",
    "        for j in words:\n",
    "            if j in i:\n",
    "                single_indicator.append(1)\n",
    "            else:\n",
    "                single_indicator.append(0)\n",
    "        indicator_array.append(single_indicator)\n",
    "    indicator_array = np.array(indicator_array)\n",
    "    return indicator_array\n",
    "\n",
    "\n",
    "import re\n",
    "regex = r'[\\t\\n]'\n",
    "with open('dataset') as f:\n",
    "    lines = f.read()\n",
    "words = re.split(regex, lines)\n",
    "\n",
    "def transform(result1, result2):\n",
    "    result = np.empty(len(result1))\n",
    "    for i in np.arange(len(result1)):\n",
    "        if result1[i] == 0:\n",
    "            result[i] = result2[i] / 10\n",
    "        else:\n",
    "            result[i] = result2[i] / result1[i]\n",
    "    return result\n",
    "\n",
    "import ipdb\n",
    "data = pd.read_csv('data/train.csv')\n",
    "category = words\n",
    "temp = words_in_texts(category, data[data.spam == 0][\"email\"])\n",
    "result1 = temp.sum(axis = 0)\n",
    "temp = words_in_texts(category, data[data.spam == 1][\"email\"])\n",
    "result2 = temp.sum(axis = 0)\n",
    "\n",
    "result = pd.DataFrame(transform(result1, result2))\n",
    "result[\"words\"] = words\n",
    "result.columns = [\"percent\", \"words\"]\n",
    "words = result.sort_values(\"percent\", ascending=False)[:60][\"words\"]\n",
    "\n",
    "original_training_data = pd.read_csv('data/train.csv')\n",
    "evaluation = pd.read_csv('data/eval.csv')\n",
    "# Convert the emails to lower case as a first step to processing the text\n",
    "original_training_data['email'] = original_training_data['email']\n",
    "evaluation['email'] = evaluation['email']\n",
    "original_training_data.head()\n",
    "from sklearn.model_selection import train_test_split\n",
    "[train, test] = train_test_split(original_training_data, test_size=0.1, random_state=42)\n",
    "some_words = list(words)\n",
    "Phi_train = words_in_texts(some_words, train[\"email\"])\n",
    "\n",
    "def upper_prop(frame,prop):\n",
    "    frame[\"prop\"] = frame[\"email\"].str.findall(\"[A-Z]\").str.len() / frame[\"email\"].str.len() \n",
    "    frame[\"upper\"] = ((frame[\"prop\"] > prop)).astype(int)\n",
    "\n",
    "biggest = 0\n",
    "biggest_i = 0\n",
    "temp = Phi_train\n",
    "for j in np.arange(0.05, 0.20,0.01):\n",
    "    Phi_train = temp\n",
    "    upper_prop(train, j)\n",
    "    upper_indicator_array = np.empty([len(train),1])\n",
    "    for counter, value in enumerate(list(train.upper)):\n",
    "        upper_indicator_array[counter][0] = value\n",
    "        \n",
    "    indicator_array = np.empty([len(train),1 + len(some_words)])\n",
    "    for i in np.arange(len(train)):\n",
    "        #ipdb.set_trace()\n",
    "        indicator_array[i] =  np.concatenate((upper_indicator_array[i], Phi_train[i]))\n",
    "    Phi_train = indicator_array\n",
    "\n",
    "    Y_train = train[\"spam\"]\n",
    "    import sklearn.linear_model\n",
    "    lr = sklearn.linear_model.LogisticRegression(fit_intercept=True)\n",
    "    lr.fit(Phi_train, Y_train)\n",
    "    Y_predict = lr.predict(Phi_train)\n",
    "    training_accuracy = (Y_predict == Y_train).sum() / len(Y_train)\n",
    "    if training_accuracy > biggest:\n",
    "        biggest = training_accuracy\n",
    "        biggest_j = j\n",
    "    print(biggest)\n",
    "biggest, biggest_j"
   ]
  },
  {
   "cell_type": "code",
   "execution_count": 234,
   "metadata": {
    "deletable": false,
    "nbgrader": {
     "cell_type": "code",
     "checksum": "94f71f52acc1ddc1af721de03dddc841",
     "grade": true,
     "grade_id": "q8-eda",
     "locked": false,
     "points": 3,
     "schema_version": 2,
     "solution": true
    },
    "tags": [
     "student",
     "written",
     "q_eda1"
    ]
   },
   "outputs": [
    {
     "ename": "NotImplementedError",
     "evalue": "",
     "output_type": "error",
     "traceback": [
      "\u001b[0;31m---------------------------------------------------------------------------\u001b[0m",
      "\u001b[0;31mNotImplementedError\u001b[0m                       Traceback (most recent call last)",
      "\u001b[0;32m<ipython-input-234-15b94d1fa268>\u001b[0m in \u001b[0;36m<module>\u001b[0;34m()\u001b[0m\n\u001b[1;32m      1\u001b[0m \u001b[0;31m# YOUR CODE HERE\u001b[0m\u001b[0;34m\u001b[0m\u001b[0;34m\u001b[0m\u001b[0m\n\u001b[0;32m----> 2\u001b[0;31m \u001b[0;32mraise\u001b[0m \u001b[0mNotImplementedError\u001b[0m\u001b[0;34m(\u001b[0m\u001b[0;34m)\u001b[0m\u001b[0;34m\u001b[0m\u001b[0m\n\u001b[0m",
      "\u001b[0;31mNotImplementedError\u001b[0m: "
     ]
    }
   ],
   "source": []
  },
  {
   "cell_type": "markdown",
   "metadata": {
    "deletable": false,
    "nbgrader": {
     "cell_type": "markdown",
     "checksum": "6d76d0efe11b5d997378ac902d04f7c1",
     "grade": true,
     "grade_id": "q8-commentary",
     "locked": false,
     "points": 3,
     "schema_version": 2,
     "solution": true
    }
   },
   "source": [
    "YOUR ANSWER HERE"
   ]
  },
  {
   "cell_type": "markdown",
   "metadata": {
    "deletable": false,
    "editable": false,
    "nbgrader": {
     "cell_type": "markdown",
     "checksum": "99200fdbaff3f814a5c7685c862989d9",
     "grade": false,
     "grade_id": "q9",
     "locked": true,
     "schema_version": 2,
     "solution": false
    }
   },
   "source": [
    "# Question 9 (Making a Precision-Recall Curve)\n",
    "\n",
    "We can trade off between precision and recall. In most cases we won't be able to get both perfect precision (i.e. no false positives) and recall (i.e. no false negatives), so we have to compromise. For example, in the case of cancer screenings, false negatives are comparatively worse than false positives — a false negative means that a patient might not discover a disease until it's too late to treat, while a false positive means that a patient will probably have to take another screening.\n",
    "\n",
    "Recall that logistic regression calculates the probability that an example belongs to a certain class. Then, to classify an example we say that an email is spam if our classifier gives it $\\ge 0.5$ probability of being spam. However, *we can adjust that cutoff*: we can say that an email is spam only if our classifier gives it $\\ge 0.7$ probability of being spam, for example. This is how we can trade off false positives and false negatives.\n",
    "\n",
    "The precision-recall curve shows this trade off for each possible cutoff probability. In the cell below, [plot a precision-recall curve](http://scikit-learn.org/stable/auto_examples/model_selection/plot_precision_recall.html#plot-the-precision-recall-curve) for your final classifier (the one you use to make predictions for Kaggle)."
   ]
  },
  {
   "cell_type": "code",
   "execution_count": null,
   "metadata": {
    "deletable": false,
    "nbgrader": {
     "cell_type": "code",
     "checksum": "8aed6cd26a59c471f66756ebb5e8bc51",
     "grade": true,
     "grade_id": "q9-roc-curve",
     "locked": false,
     "points": 3,
     "schema_version": 2,
     "solution": true
    },
    "tags": [
     "student",
     "written",
     "q_roc"
    ]
   },
   "outputs": [],
   "source": [
    "from sklearn.metrics import precision_recall_curve\n",
    "\n",
    "# Note that you'll want to use the .predict_proba(...) method for your classifier\n",
    "# instead of .predict(...) so you get probabilities, not classes\n",
    "\n",
    "# YOUR CODE HERE\n",
    "raise NotImplementedError()"
   ]
  },
  {
   "cell_type": "markdown",
   "metadata": {
    "deletable": false,
    "editable": false,
    "nbgrader": {
     "cell_type": "markdown",
     "checksum": "6f241f96a5f0b08ae0392d96660d109d",
     "grade": false,
     "grade_id": "q10",
     "locked": true,
     "schema_version": 2,
     "solution": false
    }
   },
   "source": [
    "# Question 10: Submitting to Kaggle\n",
    "\n",
    "The following code will write your predictions on the evaluation dataset to a CSV, which you can submit to Kaggle. You may need to modify it to suit your needs.\n",
    "\n",
    "Save your predictions in a 1-dimensional array called `evaluation_predictions`. *Even if you are not submitting to Kaggle, please make sure you've saved your predictions to `evaluation_predictions` as this is how your grade for this part will be determined.*\n",
    "\n",
    "Remember that if you've performed transformations or featurization on the training data, you must also perform the same transformations on the evaluation data in order to make predictions. For example, if you've created features for the words \"drug\" and \"money\" on the training data, you must also extract the same features in order to use scikit-learn's `.predict(...)` method.\n",
    "\n",
    "You should submit your CSV files to https://www.kaggle.com/t/39fae66747b14fd48fe0984f2e4f16ac"
   ]
  },
  {
   "cell_type": "code",
   "execution_count": null,
   "metadata": {
    "deletable": false,
    "nbgrader": {
     "cell_type": "code",
     "checksum": "7a2abb910f7ef354666d7e39daed7454",
     "grade": false,
     "grade_id": "q10-answer",
     "locked": false,
     "schema_version": 2,
     "solution": true
    }
   },
   "outputs": [],
   "source": [
    "# CHANGE ME (Currently making random predictions)\n",
    "evaluation_predictions = np.random.rand(len(evaluation)) > 0.5\n",
    "\n",
    "# YOUR CODE HERE\n",
    "raise NotImplementedError()"
   ]
  },
  {
   "cell_type": "code",
   "execution_count": null,
   "metadata": {
    "deletable": false,
    "editable": false,
    "nbgrader": {
     "cell_type": "code",
     "checksum": "5005948ef8f43a714dad71e48c71bb8a",
     "grade": true,
     "grade_id": "q10-tests",
     "locked": true,
     "points": 1,
     "schema_version": 2,
     "solution": false
    }
   },
   "outputs": [],
   "source": [
    "# must be ndarray of predictions\n",
    "assert isinstance(evaluation_predictions, np.ndarray) \n",
    "\n",
    "# must be binary labels (0 or 1) and not probabilities\n",
    "assert np.all((evaluation_predictions == 0) | (evaluation_predictions == 1))\n",
    "\n",
    "# must be the right number of predictions\n",
    "assert evaluation_predictions.shape == (1000, )"
   ]
  },
  {
   "cell_type": "code",
   "execution_count": null,
   "metadata": {
    "deletable": false,
    "editable": false,
    "nbgrader": {
     "cell_type": "code",
     "checksum": "9dfffe9e2d4d757b84e8d3601b5e5dd9",
     "grade": true,
     "grade_id": "q10-hidden-tests",
     "locked": true,
     "points": 4,
     "schema_version": 2,
     "solution": false
    }
   },
   "outputs": [],
   "source": [
    "# Please do not modify this cell"
   ]
  },
  {
   "cell_type": "markdown",
   "metadata": {
    "deletable": false,
    "editable": false,
    "nbgrader": {
     "cell_type": "markdown",
     "checksum": "f08c87d79dbcfed4134d2f56fda5b1fa",
     "grade": false,
     "grade_id": "cell-d15e30e2a961277d",
     "locked": true,
     "schema_version": 2,
     "solution": false
    }
   },
   "source": [
    "The following saves a file to submit to Kaggle."
   ]
  },
  {
   "cell_type": "code",
   "execution_count": null,
   "metadata": {},
   "outputs": [],
   "source": [
    "from datetime import datetime\n",
    "\n",
    "# Assuming that your predictions on the evaluation set are stored in a 1-dimensional array called\n",
    "# evaluation_predictions. Feel free to modify this cell as long you create a CSV in the right format.\n",
    "\n",
    "# must be ndarray of predictions\n",
    "assert isinstance(evaluation_predictions, np.ndarray) \n",
    "\n",
    "# must be binary labels (0 or 1) and not probabilities\n",
    "assert np.all((evaluation_predictions == 0) | (evaluation_predictions == 1))\n",
    "\n",
    "# must be the right number of predictions\n",
    "assert evaluation_predictions.shape =l= (1000, )\n",
    "\n",
    "# Construct and save the submission:\n",
    "submission_df = pd.DataFrame({\n",
    "    \"Id\": evaluation['id'], \n",
    "    \"Class\": evaluation_predictions,\n",
    "}, columns=['Id', 'Class'])\n",
    "timestamp = datetime.isoformat(datetime.now()).split(\".\")[0]\n",
    "submission_df.to_csv(\"submission_{}.csv\".format(timestamp), index=False)\n",
    "\n",
    "print('Created a CSV file: {}.'.format(\"submission_{}.csv\".format(timestamp)))\n",
    "print('You may now upload this CSV file to Kaggle for scoring.')"
   ]
  }
 ],
 "metadata": {
  "kernelspec": {
   "display_name": "Python 3",
   "language": "python",
   "name": "python3"
  },
  "language_info": {
   "codemirror_mode": {
    "name": "ipython",
    "version": 3
   },
   "file_extension": ".py",
   "mimetype": "text/x-python",
   "name": "python",
   "nbconvert_exporter": "python",
   "pygments_lexer": "ipython3",
   "version": "3.6.5"
  }
 },
 "nbformat": 4,
 "nbformat_minor": 2
}
